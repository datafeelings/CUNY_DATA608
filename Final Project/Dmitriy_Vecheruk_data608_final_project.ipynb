{
 "cells": [
  {
   "cell_type": "markdown",
   "metadata": {},
   "source": [
    "### CUNY MSDA DATA 608 \n",
    "#### FINAL PROJECT: OPIOID EPIDEMIC IN THE UNITED STATES\n",
    "**By Dmitriy Vecheruk**  \n",
    "Fall Semester 2017 "
   ]
  },
  {
   "cell_type": "markdown",
   "metadata": {},
   "source": [
    "This notebook reads and prepares the data for the interactive visualization in Dash provided in this final project.\n",
    "  \n",
    "The following is meant as a documentation for reproducibility of the charts from the downloaded datasets contained in the repository. The Dash visualization is self-contained and does not require running of this notebook."
   ]
  },
  {
   "cell_type": "code",
   "execution_count": 389,
   "metadata": {
    "collapsed": false
   },
   "outputs": [
    {
     "data": {
      "text/html": [
       "<script>requirejs.config({paths: { 'plotly': ['https://cdn.plot.ly/plotly-latest.min']},});if(!window.Plotly) {{require(['plotly'],function(plotly) {window.Plotly=plotly;});}}</script>"
      ],
      "text/vnd.plotly.v1+html": [
       "<script>requirejs.config({paths: { 'plotly': ['https://cdn.plot.ly/plotly-latest.min']},});if(!window.Plotly) {{require(['plotly'],function(plotly) {window.Plotly=plotly;});}}</script>"
      ]
     },
     "metadata": {},
     "output_type": "display_data"
    }
   ],
   "source": [
    "import pandas as pd\n",
    "pd.options.mode.chained_assignment = None\n",
    "import numpy as np\n",
    "\n",
    "import os\n",
    "import string\n",
    "import json\n",
    "from bisect import bisect_left\n",
    "\n",
    "import plotly.offline as py\n",
    "from plotly.graph_objs import *\n",
    "from plotly import tools\n",
    "from plotly.offline import download_plotlyjs, init_notebook_mode, plot, iplot\n",
    "\n",
    "init_notebook_mode(connected=True)\n",
    "%matplotlib inline"
   ]
  },
  {
   "cell_type": "markdown",
   "metadata": {},
   "source": [
    "### Load and process national counts of deaths from drug overdose and other causes in the past years"
   ]
  },
  {
   "cell_type": "markdown",
   "metadata": {},
   "source": [
    "The data for the total deaths related to drug overdose is taken from CDC Wonder according to the ICD codes used by  the National Vital Statistics System in their analysis of drugs involved in drug overdose deaths. https://www.cdc.gov/nchs/data/nvsr/nvsr65/nvsr65_10.pdf"
   ]
  },
  {
   "cell_type": "code",
   "execution_count": 396,
   "metadata": {
    "collapsed": false
   },
   "outputs": [
    {
     "data": {
      "text/html": [
       "<div>\n",
       "<style scoped>\n",
       "    .dataframe tbody tr th:only-of-type {\n",
       "        vertical-align: middle;\n",
       "    }\n",
       "\n",
       "    .dataframe tbody tr th {\n",
       "        vertical-align: top;\n",
       "    }\n",
       "\n",
       "    .dataframe thead th {\n",
       "        text-align: right;\n",
       "    }\n",
       "</style>\n",
       "<table border=\"1\" class=\"dataframe\">\n",
       "  <thead>\n",
       "    <tr style=\"text-align: right;\">\n",
       "      <th></th>\n",
       "      <th>Notes</th>\n",
       "      <th>ICD Chapter</th>\n",
       "      <th>ICD Chapter Code</th>\n",
       "      <th>Year</th>\n",
       "      <th>Year Code</th>\n",
       "      <th>Deaths</th>\n",
       "      <th>Population</th>\n",
       "      <th>Crude Rate</th>\n",
       "      <th>Age Adjusted Rate</th>\n",
       "    </tr>\n",
       "  </thead>\n",
       "  <tbody>\n",
       "    <tr>\n",
       "      <th>0</th>\n",
       "      <td>NaN</td>\n",
       "      <td>External causes of morbidity and mortality</td>\n",
       "      <td>V01-Y89</td>\n",
       "      <td>1999.0</td>\n",
       "      <td>1999.0</td>\n",
       "      <td>8867.0</td>\n",
       "      <td>279040168.0</td>\n",
       "      <td>3.2</td>\n",
       "      <td>3.2</td>\n",
       "    </tr>\n",
       "    <tr>\n",
       "      <th>1</th>\n",
       "      <td>NaN</td>\n",
       "      <td>External causes of morbidity and mortality</td>\n",
       "      <td>V01-Y89</td>\n",
       "      <td>2000.0</td>\n",
       "      <td>2000.0</td>\n",
       "      <td>9358.0</td>\n",
       "      <td>281421906.0</td>\n",
       "      <td>3.3</td>\n",
       "      <td>3.3</td>\n",
       "    </tr>\n",
       "    <tr>\n",
       "      <th>2</th>\n",
       "      <td>NaN</td>\n",
       "      <td>External causes of morbidity and mortality</td>\n",
       "      <td>V01-Y89</td>\n",
       "      <td>2001.0</td>\n",
       "      <td>2001.0</td>\n",
       "      <td>10599.0</td>\n",
       "      <td>284968955.0</td>\n",
       "      <td>3.7</td>\n",
       "      <td>3.7</td>\n",
       "    </tr>\n",
       "    <tr>\n",
       "      <th>3</th>\n",
       "      <td>NaN</td>\n",
       "      <td>External causes of morbidity and mortality</td>\n",
       "      <td>V01-Y89</td>\n",
       "      <td>2002.0</td>\n",
       "      <td>2002.0</td>\n",
       "      <td>12659.0</td>\n",
       "      <td>287625193.0</td>\n",
       "      <td>4.4</td>\n",
       "      <td>4.4</td>\n",
       "    </tr>\n",
       "    <tr>\n",
       "      <th>4</th>\n",
       "      <td>NaN</td>\n",
       "      <td>External causes of morbidity and mortality</td>\n",
       "      <td>V01-Y89</td>\n",
       "      <td>2003.0</td>\n",
       "      <td>2003.0</td>\n",
       "      <td>13817.0</td>\n",
       "      <td>290107933.0</td>\n",
       "      <td>4.8</td>\n",
       "      <td>4.8</td>\n",
       "    </tr>\n",
       "  </tbody>\n",
       "</table>\n",
       "</div>"
      ],
      "text/plain": [
       "  Notes                                 ICD Chapter ICD Chapter Code    Year  \\\n",
       "0   NaN  External causes of morbidity and mortality          V01-Y89  1999.0   \n",
       "1   NaN  External causes of morbidity and mortality          V01-Y89  2000.0   \n",
       "2   NaN  External causes of morbidity and mortality          V01-Y89  2001.0   \n",
       "3   NaN  External causes of morbidity and mortality          V01-Y89  2002.0   \n",
       "4   NaN  External causes of morbidity and mortality          V01-Y89  2003.0   \n",
       "\n",
       "   Year Code   Deaths   Population  Crude Rate  Age Adjusted Rate  \n",
       "0     1999.0   8867.0  279040168.0         3.2                3.2  \n",
       "1     2000.0   9358.0  281421906.0         3.3                3.3  \n",
       "2     2001.0  10599.0  284968955.0         3.7                3.7  \n",
       "3     2002.0  12659.0  287625193.0         4.4                4.4  \n",
       "4     2003.0  13817.0  290107933.0         4.8                4.8  "
      ]
     },
     "execution_count": 396,
     "metadata": {},
     "output_type": "execute_result"
    }
   ],
   "source": [
    "deaths_drugs_year = pd.read_csv(\"data/Compressed_Mortality_1999-2015_Drug-related_overall.txt\",sep=\"\\t\")\n",
    "deaths_drugs_year = deaths_drugs_year[deaths_drugs_year.Year.notnull()]\n",
    "deaths_drugs_year.head()"
   ]
  },
  {
   "cell_type": "code",
   "execution_count": 397,
   "metadata": {
    "collapsed": false
   },
   "outputs": [],
   "source": [
    "# deaths_drugs_year.tail()"
   ]
  },
  {
   "cell_type": "code",
   "execution_count": 398,
   "metadata": {
    "collapsed": false
   },
   "outputs": [
    {
     "data": {
      "text/html": [
       "<div>\n",
       "<style scoped>\n",
       "    .dataframe tbody tr th:only-of-type {\n",
       "        vertical-align: middle;\n",
       "    }\n",
       "\n",
       "    .dataframe tbody tr th {\n",
       "        vertical-align: top;\n",
       "    }\n",
       "\n",
       "    .dataframe thead th {\n",
       "        text-align: right;\n",
       "    }\n",
       "</style>\n",
       "<table border=\"1\" class=\"dataframe\">\n",
       "  <thead>\n",
       "    <tr style=\"text-align: right;\">\n",
       "      <th></th>\n",
       "      <th>Notes</th>\n",
       "      <th>Injury Mechanism &amp; All Other Leading Causes</th>\n",
       "      <th>Injury Mechanism &amp; All Other Leading Causes Code</th>\n",
       "      <th>Year</th>\n",
       "      <th>Year Code</th>\n",
       "      <th>Deaths</th>\n",
       "      <th>Population</th>\n",
       "      <th>Crude Rate</th>\n",
       "      <th>Age Adjusted Rate</th>\n",
       "    </tr>\n",
       "  </thead>\n",
       "  <tbody>\n",
       "    <tr>\n",
       "      <th>0</th>\n",
       "      <td>NaN</td>\n",
       "      <td>Cut/Pierce</td>\n",
       "      <td>GRINJ-001</td>\n",
       "      <td>1999.0</td>\n",
       "      <td>1999.0</td>\n",
       "      <td>2369.0</td>\n",
       "      <td>279040168.0</td>\n",
       "      <td>0.8</td>\n",
       "      <td>0.8</td>\n",
       "    </tr>\n",
       "    <tr>\n",
       "      <th>1</th>\n",
       "      <td>NaN</td>\n",
       "      <td>Cut/Pierce</td>\n",
       "      <td>GRINJ-001</td>\n",
       "      <td>2000.0</td>\n",
       "      <td>2000.0</td>\n",
       "      <td>2288.0</td>\n",
       "      <td>281421906.0</td>\n",
       "      <td>0.8</td>\n",
       "      <td>0.8</td>\n",
       "    </tr>\n",
       "    <tr>\n",
       "      <th>2</th>\n",
       "      <td>NaN</td>\n",
       "      <td>Cut/Pierce</td>\n",
       "      <td>GRINJ-001</td>\n",
       "      <td>2001.0</td>\n",
       "      <td>2001.0</td>\n",
       "      <td>2532.0</td>\n",
       "      <td>284968955.0</td>\n",
       "      <td>0.9</td>\n",
       "      <td>0.9</td>\n",
       "    </tr>\n",
       "    <tr>\n",
       "      <th>3</th>\n",
       "      <td>NaN</td>\n",
       "      <td>Cut/Pierce</td>\n",
       "      <td>GRINJ-001</td>\n",
       "      <td>2002.0</td>\n",
       "      <td>2002.0</td>\n",
       "      <td>2762.0</td>\n",
       "      <td>287625193.0</td>\n",
       "      <td>1.0</td>\n",
       "      <td>1.0</td>\n",
       "    </tr>\n",
       "    <tr>\n",
       "      <th>4</th>\n",
       "      <td>NaN</td>\n",
       "      <td>Cut/Pierce</td>\n",
       "      <td>GRINJ-001</td>\n",
       "      <td>2003.0</td>\n",
       "      <td>2003.0</td>\n",
       "      <td>2742.0</td>\n",
       "      <td>290107933.0</td>\n",
       "      <td>0.9</td>\n",
       "      <td>0.9</td>\n",
       "    </tr>\n",
       "  </tbody>\n",
       "</table>\n",
       "</div>"
      ],
      "text/plain": [
       "  Notes Injury Mechanism & All Other Leading Causes  \\\n",
       "0   NaN                                  Cut/Pierce   \n",
       "1   NaN                                  Cut/Pierce   \n",
       "2   NaN                                  Cut/Pierce   \n",
       "3   NaN                                  Cut/Pierce   \n",
       "4   NaN                                  Cut/Pierce   \n",
       "\n",
       "  Injury Mechanism & All Other Leading Causes Code    Year  Year Code  Deaths  \\\n",
       "0                                        GRINJ-001  1999.0     1999.0  2369.0   \n",
       "1                                        GRINJ-001  2000.0     2000.0  2288.0   \n",
       "2                                        GRINJ-001  2001.0     2001.0  2532.0   \n",
       "3                                        GRINJ-001  2002.0     2002.0  2762.0   \n",
       "4                                        GRINJ-001  2003.0     2003.0  2742.0   \n",
       "\n",
       "    Population Crude Rate Age Adjusted Rate  \n",
       "0  279040168.0        0.8               0.8  \n",
       "1  281421906.0        0.8               0.8  \n",
       "2  284968955.0        0.9               0.9  \n",
       "3  287625193.0        1.0               1.0  \n",
       "4  290107933.0        0.9               0.9  "
      ]
     },
     "execution_count": 398,
     "metadata": {},
     "output_type": "execute_result"
    }
   ],
   "source": [
    "deaths_other_year = pd.read_csv(\"data/Compressed_Mortality_1999-2015_cause_of_death.txt\",sep=\"\\t\")\n",
    "deaths_other_year = deaths_other_year[deaths_other_year.Year.notnull()]\n",
    "deaths_other_year.head()"
   ]
  },
  {
   "cell_type": "code",
   "execution_count": 399,
   "metadata": {
    "collapsed": false
   },
   "outputs": [],
   "source": [
    "# deaths_other_year.tail()"
   ]
  },
  {
   "cell_type": "code",
   "execution_count": 400,
   "metadata": {
    "collapsed": false
   },
   "outputs": [
    {
     "data": {
      "text/html": [
       "<div>\n",
       "<style scoped>\n",
       "    .dataframe tbody tr th:only-of-type {\n",
       "        vertical-align: middle;\n",
       "    }\n",
       "\n",
       "    .dataframe tbody tr th {\n",
       "        vertical-align: top;\n",
       "    }\n",
       "\n",
       "    .dataframe thead th {\n",
       "        text-align: right;\n",
       "    }\n",
       "</style>\n",
       "<table border=\"1\" class=\"dataframe\">\n",
       "  <thead>\n",
       "    <tr style=\"text-align: right;\">\n",
       "      <th></th>\n",
       "      <th>Injury Mechanism &amp; All Other Leading Causes</th>\n",
       "      <th>Injury Mechanism &amp; All Other Leading Causes Code</th>\n",
       "      <th>Deaths</th>\n",
       "    </tr>\n",
       "  </thead>\n",
       "  <tbody>\n",
       "    <tr>\n",
       "      <th>0</th>\n",
       "      <td>Non-Injury: Diseases of Heart</td>\n",
       "      <td>GR113 055-068</td>\n",
       "      <td>10939923.0</td>\n",
       "    </tr>\n",
       "    <tr>\n",
       "      <th>1</th>\n",
       "      <td>Non-Injury: Malignant neoplasms (Cancers)</td>\n",
       "      <td>GR113 020-043</td>\n",
       "      <td>9646498.0</td>\n",
       "    </tr>\n",
       "    <tr>\n",
       "      <th>2</th>\n",
       "      <td>Non-Injury: Cerebrovascular diseases, includin...</td>\n",
       "      <td>GR113-070</td>\n",
       "      <td>2437998.0</td>\n",
       "    </tr>\n",
       "    <tr>\n",
       "      <th>3</th>\n",
       "      <td>Non-Injury: Chronic lower respiratory diseases</td>\n",
       "      <td>GR113 082</td>\n",
       "      <td>2280130.0</td>\n",
       "    </tr>\n",
       "    <tr>\n",
       "      <th>4</th>\n",
       "      <td>Non-Injury: Alzheimers disease</td>\n",
       "      <td>GR113-052</td>\n",
       "      <td>1257309.0</td>\n",
       "    </tr>\n",
       "  </tbody>\n",
       "</table>\n",
       "</div>"
      ],
      "text/plain": [
       "         Injury Mechanism & All Other Leading Causes  \\\n",
       "0                      Non-Injury: Diseases of Heart   \n",
       "1          Non-Injury: Malignant neoplasms (Cancers)   \n",
       "2  Non-Injury: Cerebrovascular diseases, includin...   \n",
       "3     Non-Injury: Chronic lower respiratory diseases   \n",
       "4                     Non-Injury: Alzheimers disease   \n",
       "\n",
       "  Injury Mechanism & All Other Leading Causes Code      Deaths  \n",
       "0                                    GR113 055-068  10939923.0  \n",
       "1                                    GR113 020-043   9646498.0  \n",
       "2                                        GR113-070   2437998.0  \n",
       "3                                        GR113 082   2280130.0  \n",
       "4                                        GR113-052   1257309.0  "
      ]
     },
     "execution_count": 400,
     "metadata": {},
     "output_type": "execute_result"
    }
   ],
   "source": [
    "# Identify the top 7 causes from the dataset\n",
    "deaths_other_year.groupby([\"Injury Mechanism & All Other Leading Causes\",\"Injury Mechanism & All Other Leading Causes Code\"])[\"Deaths\"].sum()\\\n",
    ".sort_values(ascending=False).reset_index().head(5)"
   ]
  },
  {
   "cell_type": "code",
   "execution_count": 401,
   "metadata": {
    "collapsed": true
   },
   "outputs": [],
   "source": [
    "cause_filter = [\"GR113 055-068\",\"GR113 020-043\",\"GR113-070\",\"GR113 082\",\"GR113-052\"]\n",
    "deaths_other_year_filt = deaths_other_year[deaths_other_year[\n",
    "    \"Injury Mechanism & All Other Leading Causes Code\"].isin(cause_filter)]\n",
    "\n",
    "deaths_other_year_filt = deaths_other_year_filt.rename(columns={\"Injury Mechanism & All Other Leading Causes\":\"Cause\"}) \n",
    "deaths_drugs_year = deaths_drugs_year.rename(columns={\"ICD Chapter\":\"Cause\"})\n",
    "deaths_drugs_year[\"Cause\"] = \"Drug overdose related causes\"\n",
    "\n",
    "deaths_year = pd.concat([deaths_other_year_filt[[\"Cause\", \"Year\",\"Deaths\",\"Population\",\"Age Adjusted Rate\"]],\n",
    "                         deaths_drugs_year[[\"Cause\", \"Year\",\"Deaths\",\"Population\",\"Age Adjusted Rate\"]]\n",
    "                        ], axis = 0,ignore_index=True)\n",
    "deaths_year[\"Age Adjusted Rate\"] = deaths_year[\"Age Adjusted Rate\"].astype(\"float\")\n",
    "deaths_year = deaths_year.sort_values([\"Cause\",\"Year\"])"
   ]
  },
  {
   "cell_type": "markdown",
   "metadata": {},
   "source": [
    "### Compare to other causes of death in the past years"
   ]
  },
  {
   "cell_type": "code",
   "execution_count": 402,
   "metadata": {
    "collapsed": true
   },
   "outputs": [],
   "source": [
    "deaths_year.to_csv(\"processed_data/deaths_year.csv\",index=False)"
   ]
  },
  {
   "cell_type": "code",
   "execution_count": 403,
   "metadata": {
    "collapsed": false
   },
   "outputs": [
    {
     "data": {
      "text/html": [
       "<div>\n",
       "<style scoped>\n",
       "    .dataframe tbody tr th:only-of-type {\n",
       "        vertical-align: middle;\n",
       "    }\n",
       "\n",
       "    .dataframe tbody tr th {\n",
       "        vertical-align: top;\n",
       "    }\n",
       "\n",
       "    .dataframe thead th {\n",
       "        text-align: right;\n",
       "    }\n",
       "</style>\n",
       "<table border=\"1\" class=\"dataframe\">\n",
       "  <thead>\n",
       "    <tr style=\"text-align: right;\">\n",
       "      <th></th>\n",
       "      <th>Cause</th>\n",
       "      <th>Year</th>\n",
       "      <th>Deaths</th>\n",
       "      <th>Population</th>\n",
       "      <th>Age Adjusted Rate</th>\n",
       "      <th>Growth since 1999</th>\n",
       "    </tr>\n",
       "  </thead>\n",
       "  <tbody>\n",
       "    <tr>\n",
       "      <th>85</th>\n",
       "      <td>Drug overdose related causes</td>\n",
       "      <td>1999.0</td>\n",
       "      <td>8867.0</td>\n",
       "      <td>279040168.0</td>\n",
       "      <td>3.2</td>\n",
       "      <td>NaN</td>\n",
       "    </tr>\n",
       "    <tr>\n",
       "      <th>101</th>\n",
       "      <td>Drug overdose related causes</td>\n",
       "      <td>2015.0</td>\n",
       "      <td>30411.0</td>\n",
       "      <td>321418820.0</td>\n",
       "      <td>9.4</td>\n",
       "      <td>193.750000</td>\n",
       "    </tr>\n",
       "    <tr>\n",
       "      <th>17</th>\n",
       "      <td>Alzheimers disease</td>\n",
       "      <td>1999.0</td>\n",
       "      <td>44536.0</td>\n",
       "      <td>279040168.0</td>\n",
       "      <td>16.5</td>\n",
       "      <td>NaN</td>\n",
       "    </tr>\n",
       "    <tr>\n",
       "      <th>33</th>\n",
       "      <td>Alzheimers disease</td>\n",
       "      <td>2015.0</td>\n",
       "      <td>110561.0</td>\n",
       "      <td>321418820.0</td>\n",
       "      <td>29.4</td>\n",
       "      <td>78.181818</td>\n",
       "    </tr>\n",
       "    <tr>\n",
       "      <th>51</th>\n",
       "      <td>Cerebrovascular diseases, including stroke</td>\n",
       "      <td>1999.0</td>\n",
       "      <td>167366.0</td>\n",
       "      <td>279040168.0</td>\n",
       "      <td>61.6</td>\n",
       "      <td>NaN</td>\n",
       "    </tr>\n",
       "    <tr>\n",
       "      <th>67</th>\n",
       "      <td>Cerebrovascular diseases, including stroke</td>\n",
       "      <td>2015.0</td>\n",
       "      <td>140323.0</td>\n",
       "      <td>321418820.0</td>\n",
       "      <td>37.6</td>\n",
       "      <td>-38.961039</td>\n",
       "    </tr>\n",
       "    <tr>\n",
       "      <th>68</th>\n",
       "      <td>Chronic lower respiratory diseases</td>\n",
       "      <td>1999.0</td>\n",
       "      <td>124181.0</td>\n",
       "      <td>279040168.0</td>\n",
       "      <td>45.4</td>\n",
       "      <td>NaN</td>\n",
       "    </tr>\n",
       "    <tr>\n",
       "      <th>84</th>\n",
       "      <td>Chronic lower respiratory diseases</td>\n",
       "      <td>2015.0</td>\n",
       "      <td>155041.0</td>\n",
       "      <td>321418820.0</td>\n",
       "      <td>41.6</td>\n",
       "      <td>-8.370044</td>\n",
       "    </tr>\n",
       "    <tr>\n",
       "      <th>34</th>\n",
       "      <td>Diseases of Heart</td>\n",
       "      <td>1999.0</td>\n",
       "      <td>725192.0</td>\n",
       "      <td>279040168.0</td>\n",
       "      <td>266.4</td>\n",
       "      <td>NaN</td>\n",
       "    </tr>\n",
       "    <tr>\n",
       "      <th>50</th>\n",
       "      <td>Diseases of Heart</td>\n",
       "      <td>2015.0</td>\n",
       "      <td>633842.0</td>\n",
       "      <td>321418820.0</td>\n",
       "      <td>168.5</td>\n",
       "      <td>-36.749249</td>\n",
       "    </tr>\n",
       "    <tr>\n",
       "      <th>0</th>\n",
       "      <td>Malignant neoplasms (Cancers)</td>\n",
       "      <td>1999.0</td>\n",
       "      <td>549838.0</td>\n",
       "      <td>279040168.0</td>\n",
       "      <td>200.8</td>\n",
       "      <td>NaN</td>\n",
       "    </tr>\n",
       "    <tr>\n",
       "      <th>16</th>\n",
       "      <td>Malignant neoplasms (Cancers)</td>\n",
       "      <td>2015.0</td>\n",
       "      <td>595930.0</td>\n",
       "      <td>321418820.0</td>\n",
       "      <td>158.5</td>\n",
       "      <td>-21.065737</td>\n",
       "    </tr>\n",
       "  </tbody>\n",
       "</table>\n",
       "</div>"
      ],
      "text/plain": [
       "                                          Cause    Year    Deaths  \\\n",
       "85                 Drug overdose related causes  1999.0    8867.0   \n",
       "101                Drug overdose related causes  2015.0   30411.0   \n",
       "17                           Alzheimers disease  1999.0   44536.0   \n",
       "33                           Alzheimers disease  2015.0  110561.0   \n",
       "51   Cerebrovascular diseases, including stroke  1999.0  167366.0   \n",
       "67   Cerebrovascular diseases, including stroke  2015.0  140323.0   \n",
       "68           Chronic lower respiratory diseases  1999.0  124181.0   \n",
       "84           Chronic lower respiratory diseases  2015.0  155041.0   \n",
       "34                            Diseases of Heart  1999.0  725192.0   \n",
       "50                            Diseases of Heart  2015.0  633842.0   \n",
       "0                 Malignant neoplasms (Cancers)  1999.0  549838.0   \n",
       "16                Malignant neoplasms (Cancers)  2015.0  595930.0   \n",
       "\n",
       "      Population  Age Adjusted Rate  Growth since 1999  \n",
       "85   279040168.0                3.2                NaN  \n",
       "101  321418820.0                9.4         193.750000  \n",
       "17   279040168.0               16.5                NaN  \n",
       "33   321418820.0               29.4          78.181818  \n",
       "51   279040168.0               61.6                NaN  \n",
       "67   321418820.0               37.6         -38.961039  \n",
       "68   279040168.0               45.4                NaN  \n",
       "84   321418820.0               41.6          -8.370044  \n",
       "34   279040168.0              266.4                NaN  \n",
       "50   321418820.0              168.5         -36.749249  \n",
       "0    279040168.0              200.8                NaN  \n",
       "16   321418820.0              158.5         -21.065737  "
      ]
     },
     "execution_count": 403,
     "metadata": {},
     "output_type": "execute_result"
    }
   ],
   "source": [
    "deaths_year_comp = deaths_year.loc[deaths_year[\"Year\"].isin([1999.0,2015.0])]\n",
    "deaths_year = deaths_year.sort_values([\"Cause\",\"Year\"])\n",
    "deaths_year_comp[\"Growth since 1999\"] = deaths_year_comp.groupby(\"Cause\")[\"Age Adjusted Rate\"].pct_change()*100\n",
    "deaths_year_comp[\"Cause\"] = deaths_year_comp[\"Cause\"].str.replace(\"Non-Injury: \",\"\")\n",
    "deaths_year_comp"
   ]
  },
  {
   "cell_type": "code",
   "execution_count": 404,
   "metadata": {
    "collapsed": true
   },
   "outputs": [],
   "source": [
    "deaths_year_comp.to_csv(\"processed_data/deaths_year_comp.csv\",index=False)"
   ]
  },
  {
   "cell_type": "code",
   "execution_count": 406,
   "metadata": {
    "collapsed": false
   },
   "outputs": [
    {
     "data": {
      "application/vnd.plotly.v1+json": {
       "data": [
        {
         "marker": {
          "color": "rgb(153,216,201)"
         },
         "name": "Cerebrovascular diseases, including stroke",
         "orientation": "h",
         "text": [
          "-39.0%"
         ],
         "textposition": "auto",
         "type": "bar",
         "x": [
          -38.961038961038966
         ],
         "y": [
          "Cerebrovascular diseases, including stroke"
         ]
        },
        {
         "marker": {
          "color": "rgb(153,216,201)"
         },
         "name": "Diseases of Heart",
         "orientation": "h",
         "text": [
          "-37.0%"
         ],
         "textposition": "auto",
         "type": "bar",
         "x": [
          -36.74924924924924
         ],
         "y": [
          "Diseases of Heart"
         ]
        },
        {
         "marker": {
          "color": "rgb(153,216,201)"
         },
         "name": "Malignant neoplasms (Cancers)",
         "orientation": "h",
         "text": [
          "-21.0%"
         ],
         "textposition": "auto",
         "type": "bar",
         "x": [
          -21.065737051792834
         ],
         "y": [
          "Malignant neoplasms (Cancers)"
         ]
        },
        {
         "marker": {
          "color": "rgb(153,216,201)"
         },
         "name": "Chronic lower respiratory diseases",
         "orientation": "h",
         "text": [
          "-8.0%"
         ],
         "textposition": "auto",
         "type": "bar",
         "x": [
          -8.370044052863435
         ],
         "y": [
          "Chronic lower respiratory diseases"
         ]
        },
        {
         "marker": {
          "color": "rgb(251,106,74)"
         },
         "name": "Alzheimers disease",
         "orientation": "h",
         "text": [
          "78.0%"
         ],
         "textposition": "auto",
         "type": "bar",
         "x": [
          78.18181818181817
         ],
         "y": [
          "Alzheimers disease"
         ]
        },
        {
         "marker": {
          "color": "rgb(222,45,38)"
         },
         "name": "Drug overdose related causes",
         "orientation": "h",
         "text": [
          "194.0%"
         ],
         "textposition": "auto",
         "type": "bar",
         "x": [
          193.75
         ],
         "y": [
          "Drug overdose related causes"
         ]
        }
       ],
       "layout": {
        "margin": {
         "l": 260
        },
        "showlegend": false,
        "title": "Mortality rate change from selected causes: 2015 vs. 1999"
       }
      },
      "text/html": [
       "<div id=\"721ea64b-af22-4017-9263-92c7d2a0132d\" style=\"height: 525px; width: 100%;\" class=\"plotly-graph-div\"></div><script type=\"text/javascript\">require([\"plotly\"], function(Plotly) { window.PLOTLYENV=window.PLOTLYENV || {};window.PLOTLYENV.BASE_URL=\"https://plot.ly\";Plotly.newPlot(\"721ea64b-af22-4017-9263-92c7d2a0132d\", [{\"textposition\": \"auto\", \"orientation\": \"h\", \"text\": [\"-39.0%\"], \"y\": [\"Cerebrovascular diseases, including stroke\"], \"marker\": {\"color\": \"rgb(153,216,201)\"}, \"x\": [-38.961038961038966], \"type\": \"bar\", \"name\": \"Cerebrovascular diseases, including stroke\"}, {\"textposition\": \"auto\", \"orientation\": \"h\", \"text\": [\"-37.0%\"], \"y\": [\"Diseases of Heart\"], \"marker\": {\"color\": \"rgb(153,216,201)\"}, \"x\": [-36.74924924924924], \"type\": \"bar\", \"name\": \"Diseases of Heart\"}, {\"textposition\": \"auto\", \"orientation\": \"h\", \"text\": [\"-21.0%\"], \"y\": [\"Malignant neoplasms (Cancers)\"], \"marker\": {\"color\": \"rgb(153,216,201)\"}, \"x\": [-21.065737051792834], \"type\": \"bar\", \"name\": \"Malignant neoplasms (Cancers)\"}, {\"textposition\": \"auto\", \"orientation\": \"h\", \"text\": [\"-8.0%\"], \"y\": [\"Chronic lower respiratory diseases\"], \"marker\": {\"color\": \"rgb(153,216,201)\"}, \"x\": [-8.370044052863435], \"type\": \"bar\", \"name\": \"Chronic lower respiratory diseases\"}, {\"textposition\": \"auto\", \"orientation\": \"h\", \"text\": [\"78.0%\"], \"y\": [\"Alzheimers disease\"], \"marker\": {\"color\": \"rgb(251,106,74)\"}, \"x\": [78.18181818181817], \"type\": \"bar\", \"name\": \"Alzheimers disease\"}, {\"textposition\": \"auto\", \"orientation\": \"h\", \"text\": [\"194.0%\"], \"y\": [\"Drug overdose related causes\"], \"marker\": {\"color\": \"rgb(222,45,38)\"}, \"x\": [193.75], \"type\": \"bar\", \"name\": \"Drug overdose related causes\"}], {\"showlegend\": false, \"margin\": {\"l\": 260}, \"title\": \"Mortality rate change from selected causes: 2015 vs. 1999\"}, {\"linkText\": \"Export to plot.ly\", \"showLink\": true})});</script>"
      ],
      "text/vnd.plotly.v1+html": [
       "<div id=\"721ea64b-af22-4017-9263-92c7d2a0132d\" style=\"height: 525px; width: 100%;\" class=\"plotly-graph-div\"></div><script type=\"text/javascript\">require([\"plotly\"], function(Plotly) { window.PLOTLYENV=window.PLOTLYENV || {};window.PLOTLYENV.BASE_URL=\"https://plot.ly\";Plotly.newPlot(\"721ea64b-af22-4017-9263-92c7d2a0132d\", [{\"textposition\": \"auto\", \"orientation\": \"h\", \"text\": [\"-39.0%\"], \"y\": [\"Cerebrovascular diseases, including stroke\"], \"marker\": {\"color\": \"rgb(153,216,201)\"}, \"x\": [-38.961038961038966], \"type\": \"bar\", \"name\": \"Cerebrovascular diseases, including stroke\"}, {\"textposition\": \"auto\", \"orientation\": \"h\", \"text\": [\"-37.0%\"], \"y\": [\"Diseases of Heart\"], \"marker\": {\"color\": \"rgb(153,216,201)\"}, \"x\": [-36.74924924924924], \"type\": \"bar\", \"name\": \"Diseases of Heart\"}, {\"textposition\": \"auto\", \"orientation\": \"h\", \"text\": [\"-21.0%\"], \"y\": [\"Malignant neoplasms (Cancers)\"], \"marker\": {\"color\": \"rgb(153,216,201)\"}, \"x\": [-21.065737051792834], \"type\": \"bar\", \"name\": \"Malignant neoplasms (Cancers)\"}, {\"textposition\": \"auto\", \"orientation\": \"h\", \"text\": [\"-8.0%\"], \"y\": [\"Chronic lower respiratory diseases\"], \"marker\": {\"color\": \"rgb(153,216,201)\"}, \"x\": [-8.370044052863435], \"type\": \"bar\", \"name\": \"Chronic lower respiratory diseases\"}, {\"textposition\": \"auto\", \"orientation\": \"h\", \"text\": [\"78.0%\"], \"y\": [\"Alzheimers disease\"], \"marker\": {\"color\": \"rgb(251,106,74)\"}, \"x\": [78.18181818181817], \"type\": \"bar\", \"name\": \"Alzheimers disease\"}, {\"textposition\": \"auto\", \"orientation\": \"h\", \"text\": [\"194.0%\"], \"y\": [\"Drug overdose related causes\"], \"marker\": {\"color\": \"rgb(222,45,38)\"}, \"x\": [193.75], \"type\": \"bar\", \"name\": \"Drug overdose related causes\"}], {\"showlegend\": false, \"margin\": {\"l\": 260}, \"title\": \"Mortality rate change from selected causes: 2015 vs. 1999\"}, {\"linkText\": \"Export to plot.ly\", \"showLink\": true})});</script>"
      ]
     },
     "metadata": {},
     "output_type": "display_data"
    }
   ],
   "source": [
    "# Create chart with change over time\n",
    "\n",
    "df = deaths_year_comp[deaths_year_comp[\"Year\"]==2015.0].sort_values(\"Growth since 1999\")\n",
    "x = \"Growth since 1999\"\n",
    "y = \"Cause\"\n",
    "category = \"Cause\"\n",
    "\n",
    "scl = {\n",
    "    'Drug overdose related causes': 'rgb(222,45,38)',\n",
    "    'Alzheimers disease': 'rgb(251,106,74)',\n",
    "    'Cerebrovascular diseases, including stroke': 'rgb(153,216,201)',\n",
    "    'Chronic lower respiratory diseases': 'rgb(153,216,201)',\n",
    "    'Diseases of Heart': 'rgb(153,216,201)',\n",
    "    'Malignant neoplasms (Cancers)': 'rgb(153,216,201)'\n",
    "                 }\n",
    "\n",
    "groups = df[category].unique()\n",
    "data = []\n",
    "\n",
    "for item in groups: \n",
    "    data.append(\n",
    "        Bar(\n",
    "            x = df[df[category]==item][x],\n",
    "            y = df[df[category]==item][y],\n",
    "            name = item,\n",
    "            text = df[df[category]==item][x].round(0).astype(\"str\")+\"%\",\n",
    "            textposition = 'auto',\n",
    "            orientation = 'h',\n",
    "            marker=dict(color = scl[item])\n",
    "            )\n",
    "        )\n",
    "\n",
    "\n",
    "layout = dict(\n",
    "    title = 'Mortality rate change from selected causes: 2015 vs. 1999',\n",
    "    showlegend = False,\n",
    "    margin=Margin(\n",
    "        l=260\n",
    "    ),\n",
    ")\n",
    "\n",
    "# data = [trace]\n",
    "\n",
    "fig = dict(data=data, layout=layout)\n",
    "py.iplot(fig, filename='deaths_years')"
   ]
  },
  {
   "cell_type": "markdown",
   "metadata": {},
   "source": [
    "While the incidence for four out of five top non-injury causes of death declined between 1999 and 2015, the death rate for drug overdose related causes increased almost 3 times!"
   ]
  },
  {
   "cell_type": "markdown",
   "metadata": {},
   "source": [
    "### Create a chart with deaths over time"
   ]
  },
  {
   "cell_type": "code",
   "execution_count": 517,
   "metadata": {
    "collapsed": false
   },
   "outputs": [
    {
     "data": {
      "application/vnd.plotly.v1+json": {
       "data": [
        {
         "line": {
          "color": "rgb(0,0,0)",
          "shape": "spline",
          "width": 2
         },
         "mode": "lines+markers",
         "name": "1",
         "type": "scatter",
         "x": [
          1999,
          2000,
          2001,
          2002,
          2003,
          2004,
          2005,
          2006,
          2007,
          2008,
          2009,
          2010,
          2011,
          2012,
          2013,
          2014,
          2015
         ],
         "y": [
          8867,
          9358,
          10599,
          12659,
          13817,
          15027,
          16513,
          18625,
          20457,
          21422,
          22233,
          23973,
          26179,
          25686,
          26779,
          28125,
          30411
         ]
        }
       ],
       "layout": {
        "title": "Deaths from drug overdose related causes: 1999 - 2015",
        "xaxis": {
         "title": ""
        },
        "yaxis": {
         "title": "Deaths per year"
        }
       }
      },
      "text/html": [
       "<div id=\"5353699d-e659-4f7e-a44d-5d19c6e8effb\" style=\"height: 525px; width: 100%;\" class=\"plotly-graph-div\"></div><script type=\"text/javascript\">require([\"plotly\"], function(Plotly) { window.PLOTLYENV=window.PLOTLYENV || {};window.PLOTLYENV.BASE_URL=\"https://plot.ly\";Plotly.newPlot(\"5353699d-e659-4f7e-a44d-5d19c6e8effb\", [{\"name\": \"1\", \"mode\": \"lines+markers\", \"y\": [8867.0, 9358.0, 10599.0, 12659.0, 13817.0, 15027.0, 16513.0, 18625.0, 20457.0, 21422.0, 22233.0, 23973.0, 26179.0, 25686.0, 26779.0, 28125.0, 30411.0], \"x\": [1999.0, 2000.0, 2001.0, 2002.0, 2003.0, 2004.0, 2005.0, 2006.0, 2007.0, 2008.0, 2009.0, 2010.0, 2011.0, 2012.0, 2013.0, 2014.0, 2015.0], \"line\": {\"color\": \"rgb(0,0,0)\", \"width\": 2, \"shape\": \"spline\"}, \"type\": \"scatter\"}], {\"title\": \"Deaths from drug overdose related causes: 1999 - 2015\", \"xaxis\": {\"title\": \"\"}, \"yaxis\": {\"title\": \"Deaths per year\"}}, {\"linkText\": \"Export to plot.ly\", \"showLink\": true})});</script>"
      ],
      "text/vnd.plotly.v1+html": [
       "<div id=\"5353699d-e659-4f7e-a44d-5d19c6e8effb\" style=\"height: 525px; width: 100%;\" class=\"plotly-graph-div\"></div><script type=\"text/javascript\">require([\"plotly\"], function(Plotly) { window.PLOTLYENV=window.PLOTLYENV || {};window.PLOTLYENV.BASE_URL=\"https://plot.ly\";Plotly.newPlot(\"5353699d-e659-4f7e-a44d-5d19c6e8effb\", [{\"name\": \"1\", \"mode\": \"lines+markers\", \"y\": [8867.0, 9358.0, 10599.0, 12659.0, 13817.0, 15027.0, 16513.0, 18625.0, 20457.0, 21422.0, 22233.0, 23973.0, 26179.0, 25686.0, 26779.0, 28125.0, 30411.0], \"x\": [1999.0, 2000.0, 2001.0, 2002.0, 2003.0, 2004.0, 2005.0, 2006.0, 2007.0, 2008.0, 2009.0, 2010.0, 2011.0, 2012.0, 2013.0, 2014.0, 2015.0], \"line\": {\"color\": \"rgb(0,0,0)\", \"width\": 2, \"shape\": \"spline\"}, \"type\": \"scatter\"}], {\"title\": \"Deaths from drug overdose related causes: 1999 - 2015\", \"xaxis\": {\"title\": \"\"}, \"yaxis\": {\"title\": \"Deaths per year\"}}, {\"linkText\": \"Export to plot.ly\", \"showLink\": true})});</script>"
      ]
     },
     "metadata": {},
     "output_type": "display_data"
    }
   ],
   "source": [
    "# Create chart with rates over time\n",
    "\n",
    "def plotly_figure_line(df,x,y,group=None,group_colors=None,mode=\"lines+markers\",\n",
    "                       title=\"\",xaxis_title=\"\",yaxis_title=\"\"):\n",
    "    \n",
    "    if group is not None:\n",
    "        pass\n",
    "    else:\n",
    "        df[\"trace_id\"] = \"1\" # set up a dummy variable to iterate over\n",
    "        group = \"trace_id\" \n",
    "        \n",
    "    if group_colors is not None:\n",
    "        pass\n",
    "    else:\n",
    "        group_colors = {\"1\":\"rgb(0,0,0)\"}\n",
    "\n",
    "    groups = df[group].unique()\n",
    "    \n",
    "    data = []\n",
    "    \n",
    "    for item in groups: \n",
    "        data.append(\n",
    "            Scatter(\n",
    "                x = df[df[group]==item][x],\n",
    "                y = df[df[group]==item][y],\n",
    "                name = item,\n",
    "                mode = mode,\n",
    "                line = dict(\n",
    "                        width = 2,\n",
    "                        color = group_colors[item],\n",
    "                        shape='spline'\n",
    "                    )\n",
    "                )\n",
    "            )\n",
    "\n",
    "    return data\n",
    "\n",
    "df = deaths_year[deaths_year[\"Cause\"]==\"Drug overdose related causes\"]\n",
    "x = \"Year\"\n",
    "y = \"Deaths\"\n",
    "category = \"Cause\"\n",
    "title='Deaths from drug overdose related causes: 1999 - 2015'\n",
    "xaxis_title=\"\"\n",
    "yaxis_title=\"Deaths per year\"\n",
    "\n",
    "\n",
    "data = plotly_figure_line(df=df,x=x,y=y,group=None,group_colors = None,mode=\"lines+markers\")\n",
    "\n",
    "layout = dict(title = title,xaxis = dict(title=xaxis_title),yaxis = dict(title=yaxis_title))\n",
    "\n",
    "fig = dict(data=data, layout=layout)\n",
    "\n",
    "py.iplot(fig, filename='deaths_years')"
   ]
  },
  {
   "cell_type": "markdown",
   "metadata": {},
   "source": [
    "### Load and process deaths by demographic"
   ]
  },
  {
   "cell_type": "code",
   "execution_count": 409,
   "metadata": {
    "collapsed": true
   },
   "outputs": [],
   "source": [
    "state_codes = pd.read_csv(\"processed_data/us_state_codes.csv\", sep=\";\")"
   ]
  },
  {
   "cell_type": "code",
   "execution_count": 410,
   "metadata": {
    "collapsed": true
   },
   "outputs": [],
   "source": [
    "deaths_dem = pd.read_csv(\"data/Compressed Mortality_1999-2015_age_gender.txt\",sep=\"\\t\")"
   ]
  },
  {
   "cell_type": "code",
   "execution_count": 411,
   "metadata": {
    "collapsed": false
   },
   "outputs": [
    {
     "data": {
      "text/html": [
       "<div>\n",
       "<style scoped>\n",
       "    .dataframe tbody tr th:only-of-type {\n",
       "        vertical-align: middle;\n",
       "    }\n",
       "\n",
       "    .dataframe tbody tr th {\n",
       "        vertical-align: top;\n",
       "    }\n",
       "\n",
       "    .dataframe thead th {\n",
       "        text-align: right;\n",
       "    }\n",
       "</style>\n",
       "<table border=\"1\" class=\"dataframe\">\n",
       "  <thead>\n",
       "    <tr style=\"text-align: right;\">\n",
       "      <th></th>\n",
       "      <th>Notes</th>\n",
       "      <th>State</th>\n",
       "      <th>State Code</th>\n",
       "      <th>Year</th>\n",
       "      <th>Year Code</th>\n",
       "      <th>Age Group</th>\n",
       "      <th>Age Group Code</th>\n",
       "      <th>Gender</th>\n",
       "      <th>Gender Code</th>\n",
       "      <th>Deaths</th>\n",
       "      <th>Population</th>\n",
       "      <th>Crude Rate</th>\n",
       "    </tr>\n",
       "  </thead>\n",
       "  <tbody>\n",
       "    <tr>\n",
       "      <th>0</th>\n",
       "      <td>NaN</td>\n",
       "      <td>Alabama</td>\n",
       "      <td>1.0</td>\n",
       "      <td>1999.0</td>\n",
       "      <td>1999.0</td>\n",
       "      <td>25-34 years</td>\n",
       "      <td>25-34</td>\n",
       "      <td>Female</td>\n",
       "      <td>F</td>\n",
       "      <td>15.0</td>\n",
       "      <td>308250.0</td>\n",
       "      <td>4.9 (Unreliable)</td>\n",
       "    </tr>\n",
       "    <tr>\n",
       "      <th>1</th>\n",
       "      <td>NaN</td>\n",
       "      <td>Alabama</td>\n",
       "      <td>1.0</td>\n",
       "      <td>1999.0</td>\n",
       "      <td>1999.0</td>\n",
       "      <td>25-34 years</td>\n",
       "      <td>25-34</td>\n",
       "      <td>Male</td>\n",
       "      <td>M</td>\n",
       "      <td>27.0</td>\n",
       "      <td>300073.0</td>\n",
       "      <td>9.0</td>\n",
       "    </tr>\n",
       "    <tr>\n",
       "      <th>2</th>\n",
       "      <td>NaN</td>\n",
       "      <td>Alabama</td>\n",
       "      <td>1.0</td>\n",
       "      <td>1999.0</td>\n",
       "      <td>1999.0</td>\n",
       "      <td>35-44 years</td>\n",
       "      <td>35-44</td>\n",
       "      <td>Female</td>\n",
       "      <td>F</td>\n",
       "      <td>22.0</td>\n",
       "      <td>351301.0</td>\n",
       "      <td>6.3</td>\n",
       "    </tr>\n",
       "    <tr>\n",
       "      <th>3</th>\n",
       "      <td>NaN</td>\n",
       "      <td>Alabama</td>\n",
       "      <td>1.0</td>\n",
       "      <td>1999.0</td>\n",
       "      <td>1999.0</td>\n",
       "      <td>35-44 years</td>\n",
       "      <td>35-44</td>\n",
       "      <td>Male</td>\n",
       "      <td>M</td>\n",
       "      <td>29.0</td>\n",
       "      <td>335631.0</td>\n",
       "      <td>8.6</td>\n",
       "    </tr>\n",
       "    <tr>\n",
       "      <th>4</th>\n",
       "      <td>NaN</td>\n",
       "      <td>Alabama</td>\n",
       "      <td>1.0</td>\n",
       "      <td>1999.0</td>\n",
       "      <td>1999.0</td>\n",
       "      <td>45-54 years</td>\n",
       "      <td>45-54</td>\n",
       "      <td>Female</td>\n",
       "      <td>F</td>\n",
       "      <td>19.0</td>\n",
       "      <td>301328.0</td>\n",
       "      <td>6.3 (Unreliable)</td>\n",
       "    </tr>\n",
       "  </tbody>\n",
       "</table>\n",
       "</div>"
      ],
      "text/plain": [
       "  Notes    State  State Code    Year  Year Code    Age Group Age Group Code  \\\n",
       "0   NaN  Alabama         1.0  1999.0     1999.0  25-34 years          25-34   \n",
       "1   NaN  Alabama         1.0  1999.0     1999.0  25-34 years          25-34   \n",
       "2   NaN  Alabama         1.0  1999.0     1999.0  35-44 years          35-44   \n",
       "3   NaN  Alabama         1.0  1999.0     1999.0  35-44 years          35-44   \n",
       "4   NaN  Alabama         1.0  1999.0     1999.0  45-54 years          45-54   \n",
       "\n",
       "   Gender Gender Code  Deaths  Population        Crude Rate  \n",
       "0  Female           F    15.0    308250.0  4.9 (Unreliable)  \n",
       "1    Male           M    27.0    300073.0               9.0  \n",
       "2  Female           F    22.0    351301.0               6.3  \n",
       "3    Male           M    29.0    335631.0               8.6  \n",
       "4  Female           F    19.0    301328.0  6.3 (Unreliable)  "
      ]
     },
     "execution_count": 411,
     "metadata": {},
     "output_type": "execute_result"
    }
   ],
   "source": [
    "deaths_dem.head()"
   ]
  },
  {
   "cell_type": "code",
   "execution_count": 412,
   "metadata": {
    "collapsed": true
   },
   "outputs": [],
   "source": [
    "# Clean the data\n",
    "deaths_dem = deaths_dem[deaths_dem.Year.notnull()]\n",
    "\n",
    "# The death rate is unreliable if the enumerator is below 20\n",
    "deaths_dem[\"rate_unreliable\"] = 0\n",
    "deaths_dem.loc[deaths_dem[\"Deaths\"]<20,\"rate_unreliable\"] = 1\n",
    "deaths_dem[\"Crude Rate\"] = deaths_dem[\"Crude Rate\"].str.replace(\"[a-zA-Z\\(\\)]\", \"\")\n",
    "deaths_dem[\"Crude Rate\"] = deaths_dem[\"Crude Rate\"].astype(\"float\")\n",
    "\n",
    "deaths_dem.drop([\"Notes\",\"Age Group Code\",\"Year Code\",\"Gender Code\"],axis=1,inplace=True)"
   ]
  },
  {
   "cell_type": "code",
   "execution_count": 413,
   "metadata": {
    "collapsed": true
   },
   "outputs": [],
   "source": [
    "# Add state names\n",
    "\n",
    "deaths_dem = deaths_dem.merge(state_codes, how='left', left_on=\"State\", right_on=\"state_territory\")\n",
    "deaths_dem.drop([\"State Code\",\"state_territory\"],axis=1,inplace=True)"
   ]
  },
  {
   "cell_type": "code",
   "execution_count": 414,
   "metadata": {
    "collapsed": false
   },
   "outputs": [
    {
     "data": {
      "text/html": [
       "<div>\n",
       "<style scoped>\n",
       "    .dataframe tbody tr th:only-of-type {\n",
       "        vertical-align: middle;\n",
       "    }\n",
       "\n",
       "    .dataframe tbody tr th {\n",
       "        vertical-align: top;\n",
       "    }\n",
       "\n",
       "    .dataframe thead th {\n",
       "        text-align: right;\n",
       "    }\n",
       "</style>\n",
       "<table border=\"1\" class=\"dataframe\">\n",
       "  <thead>\n",
       "    <tr style=\"text-align: right;\">\n",
       "      <th></th>\n",
       "      <th>State</th>\n",
       "      <th>Year</th>\n",
       "      <th>Age Group</th>\n",
       "      <th>Gender</th>\n",
       "      <th>Deaths</th>\n",
       "      <th>Population</th>\n",
       "      <th>Crude Rate</th>\n",
       "      <th>rate_unreliable</th>\n",
       "      <th>code</th>\n",
       "    </tr>\n",
       "  </thead>\n",
       "  <tbody>\n",
       "    <tr>\n",
       "      <th>0</th>\n",
       "      <td>Alabama</td>\n",
       "      <td>1999.0</td>\n",
       "      <td>25-34 years</td>\n",
       "      <td>Female</td>\n",
       "      <td>15.0</td>\n",
       "      <td>308250.0</td>\n",
       "      <td>4.9</td>\n",
       "      <td>1</td>\n",
       "      <td>AL</td>\n",
       "    </tr>\n",
       "    <tr>\n",
       "      <th>1</th>\n",
       "      <td>Alabama</td>\n",
       "      <td>1999.0</td>\n",
       "      <td>25-34 years</td>\n",
       "      <td>Male</td>\n",
       "      <td>27.0</td>\n",
       "      <td>300073.0</td>\n",
       "      <td>9.0</td>\n",
       "      <td>0</td>\n",
       "      <td>AL</td>\n",
       "    </tr>\n",
       "    <tr>\n",
       "      <th>2</th>\n",
       "      <td>Alabama</td>\n",
       "      <td>1999.0</td>\n",
       "      <td>35-44 years</td>\n",
       "      <td>Female</td>\n",
       "      <td>22.0</td>\n",
       "      <td>351301.0</td>\n",
       "      <td>6.3</td>\n",
       "      <td>0</td>\n",
       "      <td>AL</td>\n",
       "    </tr>\n",
       "    <tr>\n",
       "      <th>3</th>\n",
       "      <td>Alabama</td>\n",
       "      <td>1999.0</td>\n",
       "      <td>35-44 years</td>\n",
       "      <td>Male</td>\n",
       "      <td>29.0</td>\n",
       "      <td>335631.0</td>\n",
       "      <td>8.6</td>\n",
       "      <td>0</td>\n",
       "      <td>AL</td>\n",
       "    </tr>\n",
       "    <tr>\n",
       "      <th>4</th>\n",
       "      <td>Alabama</td>\n",
       "      <td>1999.0</td>\n",
       "      <td>45-54 years</td>\n",
       "      <td>Female</td>\n",
       "      <td>19.0</td>\n",
       "      <td>301328.0</td>\n",
       "      <td>6.3</td>\n",
       "      <td>1</td>\n",
       "      <td>AL</td>\n",
       "    </tr>\n",
       "  </tbody>\n",
       "</table>\n",
       "</div>"
      ],
      "text/plain": [
       "     State    Year    Age Group  Gender  Deaths  Population  Crude Rate  \\\n",
       "0  Alabama  1999.0  25-34 years  Female    15.0    308250.0         4.9   \n",
       "1  Alabama  1999.0  25-34 years    Male    27.0    300073.0         9.0   \n",
       "2  Alabama  1999.0  35-44 years  Female    22.0    351301.0         6.3   \n",
       "3  Alabama  1999.0  35-44 years    Male    29.0    335631.0         8.6   \n",
       "4  Alabama  1999.0  45-54 years  Female    19.0    301328.0         6.3   \n",
       "\n",
       "   rate_unreliable code  \n",
       "0                1   AL  \n",
       "1                0   AL  \n",
       "2                0   AL  \n",
       "3                0   AL  \n",
       "4                1   AL  "
      ]
     },
     "execution_count": 414,
     "metadata": {},
     "output_type": "execute_result"
    }
   ],
   "source": [
    "deaths_dem.head()"
   ]
  },
  {
   "cell_type": "code",
   "execution_count": 415,
   "metadata": {
    "collapsed": true
   },
   "outputs": [],
   "source": [
    "deaths_dem.to_csv(\"processed_data/deaths_dem.csv\",index=False)"
   ]
  },
  {
   "cell_type": "markdown",
   "metadata": {
    "collapsed": true
   },
   "source": [
    "### Load and clean the data on drug types "
   ]
  },
  {
   "cell_type": "code",
   "execution_count": 558,
   "metadata": {
    "collapsed": true
   },
   "outputs": [],
   "source": [
    "deaths_drugs = pd.read_csv(\"data/VSRR_Provisional_Drug_Overdose_Death_Counts.csv\")"
   ]
  },
  {
   "cell_type": "code",
   "execution_count": 559,
   "metadata": {
    "collapsed": false
   },
   "outputs": [
    {
     "data": {
      "text/html": [
       "<div>\n",
       "<style scoped>\n",
       "    .dataframe tbody tr th:only-of-type {\n",
       "        vertical-align: middle;\n",
       "    }\n",
       "\n",
       "    .dataframe tbody tr th {\n",
       "        vertical-align: top;\n",
       "    }\n",
       "\n",
       "    .dataframe thead th {\n",
       "        text-align: right;\n",
       "    }\n",
       "</style>\n",
       "<table border=\"1\" class=\"dataframe\">\n",
       "  <thead>\n",
       "    <tr style=\"text-align: right;\">\n",
       "      <th></th>\n",
       "      <th>State</th>\n",
       "      <th>State Name</th>\n",
       "      <th>Year</th>\n",
       "      <th>Month</th>\n",
       "      <th>Period</th>\n",
       "      <th>Indicator</th>\n",
       "      <th>Data Value</th>\n",
       "      <th>Percent Complete</th>\n",
       "      <th>Percent Pending Investigation</th>\n",
       "      <th>Footnote</th>\n",
       "    </tr>\n",
       "  </thead>\n",
       "  <tbody>\n",
       "    <tr>\n",
       "      <th>0</th>\n",
       "      <td>NaN</td>\n",
       "      <td>Alaska</td>\n",
       "      <td>2015</td>\n",
       "      <td>January</td>\n",
       "      <td>12 month-ending</td>\n",
       "      <td>Number of Deaths</td>\n",
       "      <td>4,034</td>\n",
       "      <td>100</td>\n",
       "      <td>0.0</td>\n",
       "      <td>NaN</td>\n",
       "    </tr>\n",
       "    <tr>\n",
       "      <th>1</th>\n",
       "      <td>NaN</td>\n",
       "      <td>Alaska</td>\n",
       "      <td>2015</td>\n",
       "      <td>February</td>\n",
       "      <td>12 month-ending</td>\n",
       "      <td>Number of Deaths</td>\n",
       "      <td>4,084</td>\n",
       "      <td>100</td>\n",
       "      <td>0.0</td>\n",
       "      <td>NaN</td>\n",
       "    </tr>\n",
       "    <tr>\n",
       "      <th>2</th>\n",
       "      <td>NaN</td>\n",
       "      <td>Alaska</td>\n",
       "      <td>2015</td>\n",
       "      <td>March</td>\n",
       "      <td>12 month-ending</td>\n",
       "      <td>Number of Deaths</td>\n",
       "      <td>4,101</td>\n",
       "      <td>100</td>\n",
       "      <td>0.0</td>\n",
       "      <td>NaN</td>\n",
       "    </tr>\n",
       "    <tr>\n",
       "      <th>3</th>\n",
       "      <td>NaN</td>\n",
       "      <td>Alaska</td>\n",
       "      <td>2015</td>\n",
       "      <td>April</td>\n",
       "      <td>12 month-ending</td>\n",
       "      <td>Number of Deaths</td>\n",
       "      <td>4,133</td>\n",
       "      <td>100</td>\n",
       "      <td>0.0</td>\n",
       "      <td>NaN</td>\n",
       "    </tr>\n",
       "    <tr>\n",
       "      <th>4</th>\n",
       "      <td>NaN</td>\n",
       "      <td>Alaska</td>\n",
       "      <td>2015</td>\n",
       "      <td>May</td>\n",
       "      <td>12 month-ending</td>\n",
       "      <td>Number of Deaths</td>\n",
       "      <td>4,196</td>\n",
       "      <td>100</td>\n",
       "      <td>0.0</td>\n",
       "      <td>NaN</td>\n",
       "    </tr>\n",
       "  </tbody>\n",
       "</table>\n",
       "</div>"
      ],
      "text/plain": [
       "   State State Name  Year     Month           Period         Indicator  \\\n",
       "0    NaN     Alaska  2015   January  12 month-ending  Number of Deaths   \n",
       "1    NaN     Alaska  2015  February  12 month-ending  Number of Deaths   \n",
       "2    NaN     Alaska  2015     March  12 month-ending  Number of Deaths   \n",
       "3    NaN     Alaska  2015     April  12 month-ending  Number of Deaths   \n",
       "4    NaN     Alaska  2015       May  12 month-ending  Number of Deaths   \n",
       "\n",
       "  Data Value Percent Complete  Percent Pending Investigation Footnote  \n",
       "0      4,034              100                            0.0      NaN  \n",
       "1      4,084              100                            0.0      NaN  \n",
       "2      4,101              100                            0.0      NaN  \n",
       "3      4,133              100                            0.0      NaN  \n",
       "4      4,196              100                            0.0      NaN  "
      ]
     },
     "execution_count": 559,
     "metadata": {},
     "output_type": "execute_result"
    }
   ],
   "source": [
    "deaths_drugs.head()"
   ]
  },
  {
   "cell_type": "code",
   "execution_count": 560,
   "metadata": {
    "collapsed": false
   },
   "outputs": [],
   "source": [
    "# deaths_drugs[\"Indicator\"].unique()\n",
    "exclude = ['Number of Deaths', 'Number of Drug Overdose Deaths','Percent with drugs specified']\n",
    "\n",
    "\n",
    "# Filter to the drug types only\n",
    "deaths_drugs = deaths_drugs[~deaths_drugs[\"Indicator\"].isin(exclude)]\n",
    "deaths_drugs[\"Indicator\"] = deaths_drugs[\"Indicator\"].str.replace(\"\\(T.+\\)\",\"\").str.strip()"
   ]
  },
  {
   "cell_type": "code",
   "execution_count": 561,
   "metadata": {
    "collapsed": true
   },
   "outputs": [],
   "source": [
    "deaths_drugs.to_csv(\"processed_data/deaths_drugs.csv\", index=False)"
   ]
  },
  {
   "cell_type": "code",
   "execution_count": 562,
   "metadata": {
    "collapsed": false
   },
   "outputs": [
    {
     "data": {
      "application/vnd.plotly.v1+json": {
       "data": [
        {
         "line": {
          "color": "rgb(77,77,177)",
          "shape": "spline",
          "width": 2
         },
         "mode": "lines+markers",
         "name": "Cocaine",
         "type": "scatter",
         "x": [
          "2015 January",
          "2015 July",
          "2016 January",
          "2016 July",
          "2017 January"
         ],
         "y": [
          "5,496",
          "6,150",
          "6,988",
          "8,525",
          "10,908"
         ]
        },
        {
         "line": {
          "color": "rgb(93,93,93)",
          "shape": "spline",
          "width": 2
         },
         "mode": "lines+markers",
         "name": "Heroin",
         "type": "scatter",
         "x": [
          "2015 January",
          "2015 July",
          "2016 January",
          "2016 July",
          "2017 January"
         ],
         "y": [
          "10,788",
          "11,985",
          "13,222",
          "14,694",
          "15,763"
         ]
        },
        {
         "line": {
          "color": "rgb(150,150,150)",
          "shape": "spline",
          "width": 2
         },
         "mode": "lines+markers",
         "name": "Methadone",
         "type": "scatter",
         "x": [
          "2015 January",
          "2015 July",
          "2016 January",
          "2016 July",
          "2017 January"
         ],
         "y": [
          "3,413",
          "3,341",
          "3,277",
          "3,395",
          "3,374"
         ]
        },
        {
         "line": {
          "color": "rgb(223,189,179)",
          "shape": "spline",
          "width": 2
         },
         "mode": "lines+markers",
         "name": "Natural & semi-synthetic opioids",
         "type": "scatter",
         "x": [
          "2015 January",
          "2015 July",
          "2016 January",
          "2016 July",
          "2017 January"
         ],
         "y": [
          "12,269",
          "12,574",
          "12,729",
          "13,704",
          "14,696"
         ]
        },
        {
         "line": {
          "color": "rgb(239,138,98)",
          "shape": "spline",
          "width": 2
         },
         "mode": "lines+markers",
         "name": "Psychostimulants with abuse potential",
         "type": "scatter",
         "x": [
          "2015 January",
          "2015 July",
          "2016 January",
          "2016 July",
          "2017 January"
         ],
         "y": [
          "4,402",
          "5,081",
          "5,922",
          "6,834",
          "7,778"
         ]
        },
        {
         "line": {
          "color": "rgb(178,24,43)",
          "shape": "spline",
          "width": 2
         },
         "mode": "lines+markers",
         "name": "Synthetic opioids, excl. methadone",
         "type": "scatter",
         "x": [
          "2015 January",
          "2015 July",
          "2016 January",
          "2016 July",
          "2017 January"
         ],
         "y": [
          "5,766",
          "7,890",
          "9,946",
          "14,429",
          "20,818"
         ]
        }
       ],
       "layout": {
        "title": "12 Month-ending Provisional Counts of Drug Overdose Deaths by Drug",
        "xaxis": {
         "title": ""
        },
        "yaxis": {
         "title": "Provisional count of deaths"
        }
       }
      },
      "text/html": [
       "<div id=\"db9c2cd4-1d9d-4527-8ee0-ae5474704012\" style=\"height: 525px; width: 100%;\" class=\"plotly-graph-div\"></div><script type=\"text/javascript\">require([\"plotly\"], function(Plotly) { window.PLOTLYENV=window.PLOTLYENV || {};window.PLOTLYENV.BASE_URL=\"https://plot.ly\";Plotly.newPlot(\"db9c2cd4-1d9d-4527-8ee0-ae5474704012\", [{\"name\": \"Cocaine\", \"mode\": \"lines+markers\", \"y\": [\"5,496\", \"6,150\", \"6,988\", \"8,525\", \"10,908\"], \"x\": [\"2015 January\", \"2015 July\", \"2016 January\", \"2016 July\", \"2017 January\"], \"line\": {\"color\": \"rgb(77,77,177)\", \"width\": 2, \"shape\": \"spline\"}, \"type\": \"scatter\"}, {\"name\": \"Heroin\", \"mode\": \"lines+markers\", \"y\": [\"10,788\", \"11,985\", \"13,222\", \"14,694\", \"15,763\"], \"x\": [\"2015 January\", \"2015 July\", \"2016 January\", \"2016 July\", \"2017 January\"], \"line\": {\"color\": \"rgb(93,93,93)\", \"width\": 2, \"shape\": \"spline\"}, \"type\": \"scatter\"}, {\"name\": \"Methadone\", \"mode\": \"lines+markers\", \"y\": [\"3,413\", \"3,341\", \"3,277\", \"3,395\", \"3,374\"], \"x\": [\"2015 January\", \"2015 July\", \"2016 January\", \"2016 July\", \"2017 January\"], \"line\": {\"color\": \"rgb(150,150,150)\", \"width\": 2, \"shape\": \"spline\"}, \"type\": \"scatter\"}, {\"name\": \"Natural & semi-synthetic opioids\", \"mode\": \"lines+markers\", \"y\": [\"12,269\", \"12,574\", \"12,729\", \"13,704\", \"14,696\"], \"x\": [\"2015 January\", \"2015 July\", \"2016 January\", \"2016 July\", \"2017 January\"], \"line\": {\"color\": \"rgb(223,189,179)\", \"width\": 2, \"shape\": \"spline\"}, \"type\": \"scatter\"}, {\"name\": \"Psychostimulants with abuse potential\", \"mode\": \"lines+markers\", \"y\": [\"4,402\", \"5,081\", \"5,922\", \"6,834\", \"7,778\"], \"x\": [\"2015 January\", \"2015 July\", \"2016 January\", \"2016 July\", \"2017 January\"], \"line\": {\"color\": \"rgb(239,138,98)\", \"width\": 2, \"shape\": \"spline\"}, \"type\": \"scatter\"}, {\"name\": \"Synthetic opioids, excl. methadone\", \"mode\": \"lines+markers\", \"y\": [\"5,766\", \"7,890\", \"9,946\", \"14,429\", \"20,818\"], \"x\": [\"2015 January\", \"2015 July\", \"2016 January\", \"2016 July\", \"2017 January\"], \"line\": {\"color\": \"rgb(178,24,43)\", \"width\": 2, \"shape\": \"spline\"}, \"type\": \"scatter\"}], {\"title\": \"12 Month-ending Provisional Counts of Drug Overdose Deaths by Drug\", \"xaxis\": {\"title\": \"\"}, \"yaxis\": {\"title\": \"Provisional count of deaths\"}}, {\"linkText\": \"Export to plot.ly\", \"showLink\": true})});</script>"
      ],
      "text/vnd.plotly.v1+html": [
       "<div id=\"db9c2cd4-1d9d-4527-8ee0-ae5474704012\" style=\"height: 525px; width: 100%;\" class=\"plotly-graph-div\"></div><script type=\"text/javascript\">require([\"plotly\"], function(Plotly) { window.PLOTLYENV=window.PLOTLYENV || {};window.PLOTLYENV.BASE_URL=\"https://plot.ly\";Plotly.newPlot(\"db9c2cd4-1d9d-4527-8ee0-ae5474704012\", [{\"name\": \"Cocaine\", \"mode\": \"lines+markers\", \"y\": [\"5,496\", \"6,150\", \"6,988\", \"8,525\", \"10,908\"], \"x\": [\"2015 January\", \"2015 July\", \"2016 January\", \"2016 July\", \"2017 January\"], \"line\": {\"color\": \"rgb(77,77,177)\", \"width\": 2, \"shape\": \"spline\"}, \"type\": \"scatter\"}, {\"name\": \"Heroin\", \"mode\": \"lines+markers\", \"y\": [\"10,788\", \"11,985\", \"13,222\", \"14,694\", \"15,763\"], \"x\": [\"2015 January\", \"2015 July\", \"2016 January\", \"2016 July\", \"2017 January\"], \"line\": {\"color\": \"rgb(93,93,93)\", \"width\": 2, \"shape\": \"spline\"}, \"type\": \"scatter\"}, {\"name\": \"Methadone\", \"mode\": \"lines+markers\", \"y\": [\"3,413\", \"3,341\", \"3,277\", \"3,395\", \"3,374\"], \"x\": [\"2015 January\", \"2015 July\", \"2016 January\", \"2016 July\", \"2017 January\"], \"line\": {\"color\": \"rgb(150,150,150)\", \"width\": 2, \"shape\": \"spline\"}, \"type\": \"scatter\"}, {\"name\": \"Natural & semi-synthetic opioids\", \"mode\": \"lines+markers\", \"y\": [\"12,269\", \"12,574\", \"12,729\", \"13,704\", \"14,696\"], \"x\": [\"2015 January\", \"2015 July\", \"2016 January\", \"2016 July\", \"2017 January\"], \"line\": {\"color\": \"rgb(223,189,179)\", \"width\": 2, \"shape\": \"spline\"}, \"type\": \"scatter\"}, {\"name\": \"Psychostimulants with abuse potential\", \"mode\": \"lines+markers\", \"y\": [\"4,402\", \"5,081\", \"5,922\", \"6,834\", \"7,778\"], \"x\": [\"2015 January\", \"2015 July\", \"2016 January\", \"2016 July\", \"2017 January\"], \"line\": {\"color\": \"rgb(239,138,98)\", \"width\": 2, \"shape\": \"spline\"}, \"type\": \"scatter\"}, {\"name\": \"Synthetic opioids, excl. methadone\", \"mode\": \"lines+markers\", \"y\": [\"5,766\", \"7,890\", \"9,946\", \"14,429\", \"20,818\"], \"x\": [\"2015 January\", \"2015 July\", \"2016 January\", \"2016 July\", \"2017 January\"], \"line\": {\"color\": \"rgb(178,24,43)\", \"width\": 2, \"shape\": \"spline\"}, \"type\": \"scatter\"}], {\"title\": \"12 Month-ending Provisional Counts of Drug Overdose Deaths by Drug\", \"xaxis\": {\"title\": \"\"}, \"yaxis\": {\"title\": \"Provisional count of deaths\"}}, {\"linkText\": \"Export to plot.ly\", \"showLink\": true})});</script>"
      ]
     },
     "metadata": {},
     "output_type": "display_data"
    }
   ],
   "source": [
    "deaths_drugs = pd.read_csv(\"processed_data/deaths_drugs.csv\")\n",
    "\n",
    "# Setup continuous x axis\n",
    "deaths_drugs[\"year_month\"] = deaths_drugs[\"Year\"].astype(\"str\")+\" \"+deaths_drugs[\"Month\"].astype(\"str\")\n",
    "\n",
    "df = deaths_drugs[(deaths_drugs[\"State Name\"]==\"United States\") & \n",
    "                  (deaths_drugs[\"Month\"].isin([\"January\",\"July\"]))]\n",
    "\n",
    "# Setup the colorscale\n",
    "levels = deaths_drugs.Indicator.unique()\n",
    "colors = ['rgb(178,24,43)','rgb(239,138,98)','rgb(223,189,179)','rgb(150,150,150)','rgb(93,93,93)','rgb(77,77,177)']\n",
    "scl = dict([item for item in zip(levels,reversed(colors))])\n",
    "\n",
    "\n",
    "data = plotly_figure_line(df=df,x=\"year_month\",y=\"Data Value\",group=\"Indicator\",\n",
    "                          group_colors = scl,mode=\"lines+markers\")\n",
    "\n",
    "title = \"12 Month-ending Provisional Counts of Drug Overdose Deaths by Drug\"\n",
    "xaxis_title = \"\"\n",
    "yaxis_title = \"Provisional count of deaths\"\n",
    "\n",
    "\n",
    "layout = dict(title = title,\n",
    "              xaxis = dict(title=xaxis_title),\n",
    "              yaxis = dict(title=yaxis_title))\n",
    "\n",
    "fig = dict(data=data, layout=layout)\n",
    "\n",
    "py.iplot(fig, filename='deaths_drugs')"
   ]
  },
  {
   "cell_type": "markdown",
   "metadata": {},
   "source": [
    "### Create a choropleth of states"
   ]
  },
  {
   "cell_type": "code",
   "execution_count": 416,
   "metadata": {
    "collapsed": true
   },
   "outputs": [],
   "source": [
    "state_deaths = pd.read_csv(\"data/Compressed Mortality_by_state_overdose_related_1999-2015.txt\",sep=\"\\t\")"
   ]
  },
  {
   "cell_type": "code",
   "execution_count": 417,
   "metadata": {
    "collapsed": false
   },
   "outputs": [
    {
     "data": {
      "text/html": [
       "<div>\n",
       "<style scoped>\n",
       "    .dataframe tbody tr th:only-of-type {\n",
       "        vertical-align: middle;\n",
       "    }\n",
       "\n",
       "    .dataframe tbody tr th {\n",
       "        vertical-align: top;\n",
       "    }\n",
       "\n",
       "    .dataframe thead th {\n",
       "        text-align: right;\n",
       "    }\n",
       "</style>\n",
       "<table border=\"1\" class=\"dataframe\">\n",
       "  <thead>\n",
       "    <tr style=\"text-align: right;\">\n",
       "      <th></th>\n",
       "      <th>Notes</th>\n",
       "      <th>State</th>\n",
       "      <th>State Code</th>\n",
       "      <th>Year</th>\n",
       "      <th>Year Code</th>\n",
       "      <th>Deaths</th>\n",
       "      <th>Population</th>\n",
       "      <th>Crude Rate</th>\n",
       "      <th>Age Adjusted Rate</th>\n",
       "    </tr>\n",
       "  </thead>\n",
       "  <tbody>\n",
       "    <tr>\n",
       "      <th>0</th>\n",
       "      <td>NaN</td>\n",
       "      <td>Alabama</td>\n",
       "      <td>1.0</td>\n",
       "      <td>1999.0</td>\n",
       "      <td>1999.0</td>\n",
       "      <td>169.0</td>\n",
       "      <td>4430141.0</td>\n",
       "      <td>3.8</td>\n",
       "      <td>3.8</td>\n",
       "    </tr>\n",
       "    <tr>\n",
       "      <th>1</th>\n",
       "      <td>NaN</td>\n",
       "      <td>Alabama</td>\n",
       "      <td>1.0</td>\n",
       "      <td>2000.0</td>\n",
       "      <td>2000.0</td>\n",
       "      <td>197.0</td>\n",
       "      <td>4447100.0</td>\n",
       "      <td>4.4</td>\n",
       "      <td>4.5</td>\n",
       "    </tr>\n",
       "    <tr>\n",
       "      <th>2</th>\n",
       "      <td>NaN</td>\n",
       "      <td>Alabama</td>\n",
       "      <td>1.0</td>\n",
       "      <td>2001.0</td>\n",
       "      <td>2001.0</td>\n",
       "      <td>216.0</td>\n",
       "      <td>4467634.0</td>\n",
       "      <td>4.8</td>\n",
       "      <td>4.9</td>\n",
       "    </tr>\n",
       "    <tr>\n",
       "      <th>3</th>\n",
       "      <td>NaN</td>\n",
       "      <td>Alabama</td>\n",
       "      <td>1.0</td>\n",
       "      <td>2002.0</td>\n",
       "      <td>2002.0</td>\n",
       "      <td>211.0</td>\n",
       "      <td>4480089.0</td>\n",
       "      <td>4.7</td>\n",
       "      <td>4.8</td>\n",
       "    </tr>\n",
       "    <tr>\n",
       "      <th>4</th>\n",
       "      <td>NaN</td>\n",
       "      <td>Alabama</td>\n",
       "      <td>1.0</td>\n",
       "      <td>2003.0</td>\n",
       "      <td>2003.0</td>\n",
       "      <td>197.0</td>\n",
       "      <td>4503491.0</td>\n",
       "      <td>4.4</td>\n",
       "      <td>4.4</td>\n",
       "    </tr>\n",
       "  </tbody>\n",
       "</table>\n",
       "</div>"
      ],
      "text/plain": [
       "  Notes    State  State Code    Year  Year Code  Deaths  Population  \\\n",
       "0   NaN  Alabama         1.0  1999.0     1999.0   169.0   4430141.0   \n",
       "1   NaN  Alabama         1.0  2000.0     2000.0   197.0   4447100.0   \n",
       "2   NaN  Alabama         1.0  2001.0     2001.0   216.0   4467634.0   \n",
       "3   NaN  Alabama         1.0  2002.0     2002.0   211.0   4480089.0   \n",
       "4   NaN  Alabama         1.0  2003.0     2003.0   197.0   4503491.0   \n",
       "\n",
       "  Crude Rate Age Adjusted Rate  \n",
       "0        3.8               3.8  \n",
       "1        4.4               4.5  \n",
       "2        4.8               4.9  \n",
       "3        4.7               4.8  \n",
       "4        4.4               4.4  "
      ]
     },
     "execution_count": 417,
     "metadata": {},
     "output_type": "execute_result"
    }
   ],
   "source": [
    "state_deaths.head()"
   ]
  },
  {
   "cell_type": "code",
   "execution_count": 418,
   "metadata": {
    "collapsed": false
   },
   "outputs": [],
   "source": [
    "# Clean the data\n",
    "state_deaths = state_deaths[state_deaths.Year.notnull()]\n",
    "\n",
    "# The death rate is unreliable if the enumerator is below 20\n",
    "state_deaths[\"aar_unreliable\"] = 0\n",
    "state_deaths.loc[state_deaths[\"Deaths\"]<20,\"aar_unreliable\"] = 1\n",
    "state_deaths[\"Age Adjusted Rate\"] = state_deaths[\"Age Adjusted Rate\"].str.replace(\"[a-zA-Z\\(\\)]\", \"\")\n",
    "state_deaths[\"Age Adjusted Rate\"] = state_deaths[\"Age Adjusted Rate\"].astype(\"float\")\n",
    "\n",
    "state_deaths.drop([\"Notes\",\"Crude Rate\",\"Year Code\"],axis=1,inplace=True)"
   ]
  },
  {
   "cell_type": "code",
   "execution_count": 419,
   "metadata": {
    "collapsed": false
   },
   "outputs": [],
   "source": [
    "# Add state names\n",
    "\n",
    "state_deaths = state_deaths.merge(state_codes, how='left', left_on=\"State\", right_on=\"state_territory\")\n",
    "state_deaths.drop([\"State Code\",\"state_territory\"],axis=1,inplace=True)"
   ]
  },
  {
   "cell_type": "code",
   "execution_count": 420,
   "metadata": {
    "collapsed": false
   },
   "outputs": [
    {
     "data": {
      "text/plain": [
       "count    51.000000\n",
       "mean     17.813725\n",
       "std       6.904231\n",
       "min       6.900000\n",
       "25%      13.150000\n",
       "50%      16.200000\n",
       "75%      21.050000\n",
       "max      41.500000\n",
       "Name: Age Adjusted Rate, dtype: float64"
      ]
     },
     "execution_count": 420,
     "metadata": {},
     "output_type": "execute_result"
    }
   ],
   "source": [
    "state_deaths.loc[state_deaths[\"Year\"]==2015][\"Age Adjusted Rate\"].describe()"
   ]
  },
  {
   "cell_type": "code",
   "execution_count": 421,
   "metadata": {
    "collapsed": true
   },
   "outputs": [],
   "source": [
    "state_deaths.to_csv(\"processed_data/state_deaths.csv\",index=False)"
   ]
  },
  {
   "cell_type": "code",
   "execution_count": 422,
   "metadata": {
    "collapsed": false,
    "scrolled": false
   },
   "outputs": [
    {
     "data": {
      "application/vnd.plotly.v1+json": {
       "data": [
        {
         "autocolorscale": false,
         "colorbar": {
          "title": "Deaths per 100k population"
         },
         "colorscale": [
          [
           0,
           "rgb(254,240,217)"
          ],
          [
           0.25,
           "rgb(253,204,138)"
          ],
          [
           0.5,
           "rgb(252,91,89)"
          ],
          [
           1,
           "rgb(255,38,11)"
          ]
         ],
         "locationmode": "USA-states",
         "locations": [
          "AL",
          "AK",
          "AZ",
          "AR",
          "CA",
          "CO",
          "CT",
          "DE",
          "DC",
          "FL",
          "GA",
          "HI",
          "ID",
          "IL",
          "IN",
          "IA",
          "KS",
          "KY",
          "LA",
          "ME",
          "MD",
          "MA",
          "MI",
          "MN",
          "MS",
          "MO",
          "MT",
          "NE",
          "NV",
          "NH",
          "NJ",
          "NM",
          "NY",
          "NC",
          "ND",
          "OH",
          "OK",
          "OR",
          "PA",
          "RI",
          "SC",
          "SD",
          "TN",
          "TX",
          "UT",
          "VT",
          "VA",
          "WA",
          "WV",
          "WI",
          "WY"
         ],
         "marker": {
          "line": {
           "color": "rgb(50,50,50)",
           "width": 1
          }
         },
         "reversescale": false,
         "text": [
          "Alabama<br>Deaths per 100k population: 15.6",
          "Alaska<br>Deaths per 100k population: 16.0",
          "Arizona<br>Deaths per 100k population: 19.0",
          "Arkansas<br>Deaths per 100k population: 13.8",
          "California<br>Deaths per 100k population: 11.3",
          "Colorado<br>Deaths per 100k population: 15.4",
          "Connecticut<br>Deaths per 100k population: 22.1",
          "Delaware<br>Deaths per 100k population: 22.0",
          "District of Columbia<br>Deaths per 100k population: 18.5",
          "Florida<br>Deaths per 100k population: 16.2",
          "Georgia<br>Deaths per 100k population: 12.7",
          "Hawaii<br>Deaths per 100k population: 11.3",
          "Idaho<br>Deaths per 100k population: 14.2",
          "Illinois<br>Deaths per 100k population: 14.1",
          "Indiana<br>Deaths per 100k population: 19.5",
          "Iowa<br>Deaths per 100k population: 10.3",
          "Kansas<br>Deaths per 100k population: 11.9",
          "Kentucky<br>Deaths per 100k population: 29.9",
          "Louisiana<br>Deaths per 100k population: 19.0",
          "Maine<br>Deaths per 100k population: 21.2",
          "Maryland<br>Deaths per 100k population: 20.9",
          "Massachusetts<br>Deaths per 100k population: 25.7",
          "Michigan<br>Deaths per 100k population: 20.3",
          "Minnesota<br>Deaths per 100k population: 10.6",
          "Mississippi<br>Deaths per 100k population: 12.3",
          "Missouri<br>Deaths per 100k population: 17.9",
          "Montana<br>Deaths per 100k population: 13.8",
          "Nebraska<br>Deaths per 100k population: 6.9",
          "Nevada<br>Deaths per 100k population: 20.3",
          "New Hampshire<br>Deaths per 100k population: 34.3",
          "New Jersey<br>Deaths per 100k population: 16.3",
          "New Mexico<br>Deaths per 100k population: 25.3",
          "New York<br>Deaths per 100k population: 13.6",
          "North Carolina<br>Deaths per 100k population: 15.8",
          "North Dakota<br>Deaths per 100k population: 8.6",
          "Ohio<br>Deaths per 100k population: 29.9",
          "Oklahoma<br>Deaths per 100k population: 19.0",
          "Oregon<br>Deaths per 100k population: 12.0",
          "Pennsylvania<br>Deaths per 100k population: 26.3",
          "Rhode Island<br>Deaths per 100k population: 28.2",
          "South Carolina<br>Deaths per 100k population: 15.7",
          "South Dakota<br>Deaths per 100k population: 8.4",
          "Tennessee<br>Deaths per 100k population: 22.2",
          "Texas<br>Deaths per 100k population: 9.4",
          "Utah<br>Deaths per 100k population: 23.4",
          "Vermont<br>Deaths per 100k population: 16.7",
          "Virginia<br>Deaths per 100k population: 12.4",
          "Washington<br>Deaths per 100k population: 14.8",
          "West Virginia<br>Deaths per 100k population: 41.5",
          "Wisconsin<br>Deaths per 100k population: 15.5",
          "Wyoming<br>Deaths per 100k population: 16.5"
         ],
         "type": "choropleth",
         "z": [
          15.6,
          16,
          19,
          13.8,
          11.3,
          15.4,
          22.1,
          22,
          18.5,
          16.2,
          12.7,
          11.3,
          14.2,
          14.1,
          19.5,
          10.3,
          11.9,
          29.9,
          19,
          21.2,
          20.9,
          25.7,
          20.3,
          10.6,
          12.3,
          17.9,
          13.8,
          6.9,
          20.3,
          34.3,
          16.3,
          25.3,
          13.6,
          15.8,
          8.6,
          29.9,
          19,
          12,
          26.3,
          28.2,
          15.7,
          8.4,
          22.2,
          9.4,
          23.4,
          16.7,
          12.4,
          14.8,
          41.5,
          15.5,
          16.5
         ]
        }
       ],
       "layout": {
        "geo": {
         "lakecolor": "rgb(255, 255, 255)",
         "projection": {
          "type": "albers usa"
         },
         "scope": "usa",
         "showlakes": true
        },
        "title": "2015: Death rates due to drug overdose"
       }
      },
      "text/html": [
       "<div id=\"603006cf-3728-448b-8eb7-07e7487c34a0\" style=\"height: 525px; width: 100%;\" class=\"plotly-graph-div\"></div><script type=\"text/javascript\">require([\"plotly\"], function(Plotly) { window.PLOTLYENV=window.PLOTLYENV || {};window.PLOTLYENV.BASE_URL=\"https://plot.ly\";Plotly.newPlot(\"603006cf-3728-448b-8eb7-07e7487c34a0\", [{\"reversescale\": false, \"autocolorscale\": false, \"colorscale\": [[0.0, \"rgb(254,240,217)\"], [0.25, \"rgb(253,204,138)\"], [0.5, \"rgb(252,91,89)\"], [1.0, \"rgb(255,38,11)\"]], \"text\": [\"Alabama<br>Deaths per 100k population: 15.6\", \"Alaska<br>Deaths per 100k population: 16.0\", \"Arizona<br>Deaths per 100k population: 19.0\", \"Arkansas<br>Deaths per 100k population: 13.8\", \"California<br>Deaths per 100k population: 11.3\", \"Colorado<br>Deaths per 100k population: 15.4\", \"Connecticut<br>Deaths per 100k population: 22.1\", \"Delaware<br>Deaths per 100k population: 22.0\", \"District of Columbia<br>Deaths per 100k population: 18.5\", \"Florida<br>Deaths per 100k population: 16.2\", \"Georgia<br>Deaths per 100k population: 12.7\", \"Hawaii<br>Deaths per 100k population: 11.3\", \"Idaho<br>Deaths per 100k population: 14.2\", \"Illinois<br>Deaths per 100k population: 14.1\", \"Indiana<br>Deaths per 100k population: 19.5\", \"Iowa<br>Deaths per 100k population: 10.3\", \"Kansas<br>Deaths per 100k population: 11.9\", \"Kentucky<br>Deaths per 100k population: 29.9\", \"Louisiana<br>Deaths per 100k population: 19.0\", \"Maine<br>Deaths per 100k population: 21.2\", \"Maryland<br>Deaths per 100k population: 20.9\", \"Massachusetts<br>Deaths per 100k population: 25.7\", \"Michigan<br>Deaths per 100k population: 20.3\", \"Minnesota<br>Deaths per 100k population: 10.6\", \"Mississippi<br>Deaths per 100k population: 12.3\", \"Missouri<br>Deaths per 100k population: 17.9\", \"Montana<br>Deaths per 100k population: 13.8\", \"Nebraska<br>Deaths per 100k population: 6.9\", \"Nevada<br>Deaths per 100k population: 20.3\", \"New Hampshire<br>Deaths per 100k population: 34.3\", \"New Jersey<br>Deaths per 100k population: 16.3\", \"New Mexico<br>Deaths per 100k population: 25.3\", \"New York<br>Deaths per 100k population: 13.6\", \"North Carolina<br>Deaths per 100k population: 15.8\", \"North Dakota<br>Deaths per 100k population: 8.6\", \"Ohio<br>Deaths per 100k population: 29.9\", \"Oklahoma<br>Deaths per 100k population: 19.0\", \"Oregon<br>Deaths per 100k population: 12.0\", \"Pennsylvania<br>Deaths per 100k population: 26.3\", \"Rhode Island<br>Deaths per 100k population: 28.2\", \"South Carolina<br>Deaths per 100k population: 15.7\", \"South Dakota<br>Deaths per 100k population: 8.4\", \"Tennessee<br>Deaths per 100k population: 22.2\", \"Texas<br>Deaths per 100k population: 9.4\", \"Utah<br>Deaths per 100k population: 23.4\", \"Vermont<br>Deaths per 100k population: 16.7\", \"Virginia<br>Deaths per 100k population: 12.4\", \"Washington<br>Deaths per 100k population: 14.8\", \"West Virginia<br>Deaths per 100k population: 41.5\", \"Wisconsin<br>Deaths per 100k population: 15.5\", \"Wyoming<br>Deaths per 100k population: 16.5\"], \"locations\": [\"AL\", \"AK\", \"AZ\", \"AR\", \"CA\", \"CO\", \"CT\", \"DE\", \"DC\", \"FL\", \"GA\", \"HI\", \"ID\", \"IL\", \"IN\", \"IA\", \"KS\", \"KY\", \"LA\", \"ME\", \"MD\", \"MA\", \"MI\", \"MN\", \"MS\", \"MO\", \"MT\", \"NE\", \"NV\", \"NH\", \"NJ\", \"NM\", \"NY\", \"NC\", \"ND\", \"OH\", \"OK\", \"OR\", \"PA\", \"RI\", \"SC\", \"SD\", \"TN\", \"TX\", \"UT\", \"VT\", \"VA\", \"WA\", \"WV\", \"WI\", \"WY\"], \"colorbar\": {\"title\": \"Deaths per 100k population\"}, \"type\": \"choropleth\", \"marker\": {\"line\": {\"color\": \"rgb(50,50,50)\", \"width\": 1}}, \"z\": [15.6, 16.0, 19.0, 13.8, 11.3, 15.4, 22.1, 22.0, 18.5, 16.2, 12.7, 11.3, 14.2, 14.1, 19.5, 10.3, 11.9, 29.9, 19.0, 21.2, 20.9, 25.7, 20.3, 10.6, 12.3, 17.9, 13.8, 6.9, 20.3, 34.3, 16.3, 25.3, 13.6, 15.8, 8.6, 29.9, 19.0, 12.0, 26.3, 28.2, 15.7, 8.4, 22.2, 9.4, 23.4, 16.7, 12.4, 14.8, 41.5, 15.5, 16.5], \"locationmode\": \"USA-states\"}], {\"geo\": {\"showlakes\": true, \"scope\": \"usa\", \"projection\": {\"type\": \"albers usa\"}, \"lakecolor\": \"rgb(255, 255, 255)\"}, \"title\": \"2015: Death rates due to drug overdose\"}, {\"linkText\": \"Export to plot.ly\", \"showLink\": true})});</script>"
      ],
      "text/vnd.plotly.v1+html": [
       "<div id=\"603006cf-3728-448b-8eb7-07e7487c34a0\" style=\"height: 525px; width: 100%;\" class=\"plotly-graph-div\"></div><script type=\"text/javascript\">require([\"plotly\"], function(Plotly) { window.PLOTLYENV=window.PLOTLYENV || {};window.PLOTLYENV.BASE_URL=\"https://plot.ly\";Plotly.newPlot(\"603006cf-3728-448b-8eb7-07e7487c34a0\", [{\"reversescale\": false, \"autocolorscale\": false, \"colorscale\": [[0.0, \"rgb(254,240,217)\"], [0.25, \"rgb(253,204,138)\"], [0.5, \"rgb(252,91,89)\"], [1.0, \"rgb(255,38,11)\"]], \"text\": [\"Alabama<br>Deaths per 100k population: 15.6\", \"Alaska<br>Deaths per 100k population: 16.0\", \"Arizona<br>Deaths per 100k population: 19.0\", \"Arkansas<br>Deaths per 100k population: 13.8\", \"California<br>Deaths per 100k population: 11.3\", \"Colorado<br>Deaths per 100k population: 15.4\", \"Connecticut<br>Deaths per 100k population: 22.1\", \"Delaware<br>Deaths per 100k population: 22.0\", \"District of Columbia<br>Deaths per 100k population: 18.5\", \"Florida<br>Deaths per 100k population: 16.2\", \"Georgia<br>Deaths per 100k population: 12.7\", \"Hawaii<br>Deaths per 100k population: 11.3\", \"Idaho<br>Deaths per 100k population: 14.2\", \"Illinois<br>Deaths per 100k population: 14.1\", \"Indiana<br>Deaths per 100k population: 19.5\", \"Iowa<br>Deaths per 100k population: 10.3\", \"Kansas<br>Deaths per 100k population: 11.9\", \"Kentucky<br>Deaths per 100k population: 29.9\", \"Louisiana<br>Deaths per 100k population: 19.0\", \"Maine<br>Deaths per 100k population: 21.2\", \"Maryland<br>Deaths per 100k population: 20.9\", \"Massachusetts<br>Deaths per 100k population: 25.7\", \"Michigan<br>Deaths per 100k population: 20.3\", \"Minnesota<br>Deaths per 100k population: 10.6\", \"Mississippi<br>Deaths per 100k population: 12.3\", \"Missouri<br>Deaths per 100k population: 17.9\", \"Montana<br>Deaths per 100k population: 13.8\", \"Nebraska<br>Deaths per 100k population: 6.9\", \"Nevada<br>Deaths per 100k population: 20.3\", \"New Hampshire<br>Deaths per 100k population: 34.3\", \"New Jersey<br>Deaths per 100k population: 16.3\", \"New Mexico<br>Deaths per 100k population: 25.3\", \"New York<br>Deaths per 100k population: 13.6\", \"North Carolina<br>Deaths per 100k population: 15.8\", \"North Dakota<br>Deaths per 100k population: 8.6\", \"Ohio<br>Deaths per 100k population: 29.9\", \"Oklahoma<br>Deaths per 100k population: 19.0\", \"Oregon<br>Deaths per 100k population: 12.0\", \"Pennsylvania<br>Deaths per 100k population: 26.3\", \"Rhode Island<br>Deaths per 100k population: 28.2\", \"South Carolina<br>Deaths per 100k population: 15.7\", \"South Dakota<br>Deaths per 100k population: 8.4\", \"Tennessee<br>Deaths per 100k population: 22.2\", \"Texas<br>Deaths per 100k population: 9.4\", \"Utah<br>Deaths per 100k population: 23.4\", \"Vermont<br>Deaths per 100k population: 16.7\", \"Virginia<br>Deaths per 100k population: 12.4\", \"Washington<br>Deaths per 100k population: 14.8\", \"West Virginia<br>Deaths per 100k population: 41.5\", \"Wisconsin<br>Deaths per 100k population: 15.5\", \"Wyoming<br>Deaths per 100k population: 16.5\"], \"locations\": [\"AL\", \"AK\", \"AZ\", \"AR\", \"CA\", \"CO\", \"CT\", \"DE\", \"DC\", \"FL\", \"GA\", \"HI\", \"ID\", \"IL\", \"IN\", \"IA\", \"KS\", \"KY\", \"LA\", \"ME\", \"MD\", \"MA\", \"MI\", \"MN\", \"MS\", \"MO\", \"MT\", \"NE\", \"NV\", \"NH\", \"NJ\", \"NM\", \"NY\", \"NC\", \"ND\", \"OH\", \"OK\", \"OR\", \"PA\", \"RI\", \"SC\", \"SD\", \"TN\", \"TX\", \"UT\", \"VT\", \"VA\", \"WA\", \"WV\", \"WI\", \"WY\"], \"colorbar\": {\"title\": \"Deaths per 100k population\"}, \"type\": \"choropleth\", \"marker\": {\"line\": {\"color\": \"rgb(50,50,50)\", \"width\": 1}}, \"z\": [15.6, 16.0, 19.0, 13.8, 11.3, 15.4, 22.1, 22.0, 18.5, 16.2, 12.7, 11.3, 14.2, 14.1, 19.5, 10.3, 11.9, 29.9, 19.0, 21.2, 20.9, 25.7, 20.3, 10.6, 12.3, 17.9, 13.8, 6.9, 20.3, 34.3, 16.3, 25.3, 13.6, 15.8, 8.6, 29.9, 19.0, 12.0, 26.3, 28.2, 15.7, 8.4, 22.2, 9.4, 23.4, 16.7, 12.4, 14.8, 41.5, 15.5, 16.5], \"locationmode\": \"USA-states\"}], {\"geo\": {\"showlakes\": true, \"scope\": \"usa\", \"projection\": {\"type\": \"albers usa\"}, \"lakecolor\": \"rgb(255, 255, 255)\"}, \"title\": \"2015: Death rates due to drug overdose\"}, {\"linkText\": \"Export to plot.ly\", \"showLink\": true})});</script>"
      ]
     },
     "metadata": {},
     "output_type": "display_data"
    }
   ],
   "source": [
    "#  Make choropleth map\n",
    "\n",
    "df = state_deaths.loc[state_deaths[\"Year\"]==2015]\n",
    "\n",
    "# Set up the colorscale\n",
    "\n",
    "colors = ['rgb(254,240,217)','rgb(253,204,138)','rgb(252,91,89)','rgb(255,38,11)']\n",
    "levels = [0.0,0.25,0.5,1.0]\n",
    "scl = [list(item) for item in zip(levels,colors)]\n",
    "\n",
    "\n",
    "df['text'] = df['State']+ '<br>' +\\\n",
    "    'Deaths per 100k population: '+df['Age Adjusted Rate'].astype(str)\n",
    "\n",
    "data = [ dict(\n",
    "        type='choropleth',\n",
    "        colorscale = scl,\n",
    "        autocolorscale = False,\n",
    "        reversescale = False,\n",
    "        locations = df['code'],\n",
    "        z = df['Age Adjusted Rate'].astype(\"float\"),\n",
    "        locationmode = 'USA-states',\n",
    "        text = df['text'],\n",
    "        marker = dict(\n",
    "            line = dict (\n",
    "                color = 'rgb(50,50,50)',\n",
    "                width = 1\n",
    "            ) ),\n",
    "        colorbar = dict(\n",
    "            title = \"Deaths per 100k population\")\n",
    "        ) ]\n",
    "\n",
    "layout = dict(\n",
    "        title = '2015: Death rates due to drug overdose',\n",
    "        geo = dict(\n",
    "            scope='usa',\n",
    "            projection=dict( type='albers usa' ),\n",
    "            showlakes = True,\n",
    "            lakecolor = 'rgb(255, 255, 255)'),\n",
    "             )\n",
    "    \n",
    "fig = dict( data=data, layout=layout )\n",
    "py.iplot( fig, filename='d3-cloropleth-map' )"
   ]
  },
  {
   "cell_type": "markdown",
   "metadata": {},
   "source": [
    "### 2. Investigate the data per state"
   ]
  },
  {
   "cell_type": "code",
   "execution_count": 423,
   "metadata": {
    "collapsed": false
   },
   "outputs": [
    {
     "data": {
      "application/vnd.plotly.v1+json": {
       "data": [
        {
         "line": {
          "color": "rgb(0,0,0)",
          "shape": "spline",
          "width": 2
         },
         "marker": {
          "symbol": [
           "circle",
           "circle",
           "circle",
           "circle",
           "circle",
           "circle",
           "circle",
           "circle",
           "circle",
           "circle",
           "circle",
           "circle",
           "circle",
           "circle",
           "circle",
           "circle",
           "circle"
          ]
         },
         "mode": "lines+markers",
         "name": "West Virginia",
         "type": "scatter",
         "x": [
          1999,
          2000,
          2001,
          2002,
          2003,
          2004,
          2005,
          2006,
          2007,
          2008,
          2009,
          2010,
          2011,
          2012,
          2013,
          2014,
          2015
         ],
         "y": [
          4.1,
          6.2,
          11.5,
          13,
          15.1,
          18.8,
          10.5,
          20.4,
          22.5,
          25.8,
          12.4,
          28.9,
          36.3,
          32,
          32.2,
          35.6,
          41.5
         ]
        },
        {
         "line": {
          "color": "rgb(50,50,50)",
          "dash": "dot",
          "shape": "spline",
          "width": 2
         },
         "mode": "lines",
         "name": "National Median",
         "type": "scatter",
         "x": [
          1999,
          2000,
          2001,
          2002,
          2003,
          2004,
          2005,
          2006,
          2007,
          2008,
          2009,
          2010,
          2011,
          2012,
          2013,
          2014,
          2015
         ],
         "y": [
          5.1,
          5.8,
          6.6,
          8.3,
          9,
          9.5,
          10.1,
          11.8,
          12.2,
          12.4,
          12.5,
          11.8,
          13.3,
          12.7,
          14.5,
          15,
          16.2
         ]
        }
       ],
       "layout": {
        "legend": {
         "x": 0.05,
         "xanchor": "left"
        },
        "title": "West Virginia : Deaths per 100k population from drug overdose related causes: 1999 - 2015",
        "xaxis": {
         "title": ""
        },
        "yaxis": {
         "title": "Deaths per 100k population"
        }
       }
      },
      "text/html": [
       "<div id=\"5bd3b14b-122e-488e-a28b-825389720c8b\" style=\"height: 525px; width: 100%;\" class=\"plotly-graph-div\"></div><script type=\"text/javascript\">require([\"plotly\"], function(Plotly) { window.PLOTLYENV=window.PLOTLYENV || {};window.PLOTLYENV.BASE_URL=\"https://plot.ly\";Plotly.newPlot(\"5bd3b14b-122e-488e-a28b-825389720c8b\", [{\"name\": \"West Virginia\", \"marker\": {\"symbol\": [\"circle\", \"circle\", \"circle\", \"circle\", \"circle\", \"circle\", \"circle\", \"circle\", \"circle\", \"circle\", \"circle\", \"circle\", \"circle\", \"circle\", \"circle\", \"circle\", \"circle\"]}, \"mode\": \"lines+markers\", \"y\": [4.1, 6.2, 11.5, 13.0, 15.1, 18.8, 10.5, 20.4, 22.5, 25.8, 12.4, 28.9, 36.3, 32.0, 32.2, 35.6, 41.5], \"x\": [1999.0, 2000.0, 2001.0, 2002.0, 2003.0, 2004.0, 2005.0, 2006.0, 2007.0, 2008.0, 2009.0, 2010.0, 2011.0, 2012.0, 2013.0, 2014.0, 2015.0], \"line\": {\"color\": \"rgb(0,0,0)\", \"width\": 2, \"shape\": \"spline\"}, \"type\": \"scatter\"}, {\"name\": \"National Median\", \"mode\": \"lines\", \"y\": [5.1, 5.8, 6.6, 8.3, 9.0, 9.5, 10.1, 11.8, 12.2, 12.4, 12.5, 11.8, 13.3, 12.7, 14.5, 15.0, 16.2], \"x\": [1999.0, 2000.0, 2001.0, 2002.0, 2003.0, 2004.0, 2005.0, 2006.0, 2007.0, 2008.0, 2009.0, 2010.0, 2011.0, 2012.0, 2013.0, 2014.0, 2015.0], \"line\": {\"dash\": \"dot\", \"color\": \"rgb(50,50,50)\", \"shape\": \"spline\", \"width\": 2}, \"type\": \"scatter\"}], {\"title\": \"West Virginia : Deaths per 100k population from drug overdose related causes: 1999 - 2015\", \"legend\": {\"x\": 0.05, \"xanchor\": \"left\"}, \"xaxis\": {\"title\": \"\"}, \"yaxis\": {\"title\": \"Deaths per 100k population\"}}, {\"linkText\": \"Export to plot.ly\", \"showLink\": true})});</script>"
      ],
      "text/vnd.plotly.v1+html": [
       "<div id=\"5bd3b14b-122e-488e-a28b-825389720c8b\" style=\"height: 525px; width: 100%;\" class=\"plotly-graph-div\"></div><script type=\"text/javascript\">require([\"plotly\"], function(Plotly) { window.PLOTLYENV=window.PLOTLYENV || {};window.PLOTLYENV.BASE_URL=\"https://plot.ly\";Plotly.newPlot(\"5bd3b14b-122e-488e-a28b-825389720c8b\", [{\"name\": \"West Virginia\", \"marker\": {\"symbol\": [\"circle\", \"circle\", \"circle\", \"circle\", \"circle\", \"circle\", \"circle\", \"circle\", \"circle\", \"circle\", \"circle\", \"circle\", \"circle\", \"circle\", \"circle\", \"circle\", \"circle\"]}, \"mode\": \"lines+markers\", \"y\": [4.1, 6.2, 11.5, 13.0, 15.1, 18.8, 10.5, 20.4, 22.5, 25.8, 12.4, 28.9, 36.3, 32.0, 32.2, 35.6, 41.5], \"x\": [1999.0, 2000.0, 2001.0, 2002.0, 2003.0, 2004.0, 2005.0, 2006.0, 2007.0, 2008.0, 2009.0, 2010.0, 2011.0, 2012.0, 2013.0, 2014.0, 2015.0], \"line\": {\"color\": \"rgb(0,0,0)\", \"width\": 2, \"shape\": \"spline\"}, \"type\": \"scatter\"}, {\"name\": \"National Median\", \"mode\": \"lines\", \"y\": [5.1, 5.8, 6.6, 8.3, 9.0, 9.5, 10.1, 11.8, 12.2, 12.4, 12.5, 11.8, 13.3, 12.7, 14.5, 15.0, 16.2], \"x\": [1999.0, 2000.0, 2001.0, 2002.0, 2003.0, 2004.0, 2005.0, 2006.0, 2007.0, 2008.0, 2009.0, 2010.0, 2011.0, 2012.0, 2013.0, 2014.0, 2015.0], \"line\": {\"dash\": \"dot\", \"color\": \"rgb(50,50,50)\", \"shape\": \"spline\", \"width\": 2}, \"type\": \"scatter\"}], {\"title\": \"West Virginia : Deaths per 100k population from drug overdose related causes: 1999 - 2015\", \"legend\": {\"x\": 0.05, \"xanchor\": \"left\"}, \"xaxis\": {\"title\": \"\"}, \"yaxis\": {\"title\": \"Deaths per 100k population\"}}, {\"linkText\": \"Export to plot.ly\", \"showLink\": true})});</script>"
      ]
     },
     "metadata": {},
     "output_type": "display_data"
    }
   ],
   "source": [
    "state_filter = \"West Virginia\"\n",
    "df = state_deaths[state_deaths[\"State\"] == state_filter]\n",
    "x = \"Year\"\n",
    "y = \"Age Adjusted Rate\"\n",
    "title = state_filter + \" : Deaths per 100k population from drug overdose related causes: 1999 - 2015\"\n",
    "xaxis_title=\"\"\n",
    "yaxis_title=\"Deaths per 100k population\"\n",
    "\n",
    "# Add reliability indicator\n",
    "df[\"marker\"] = \"circle\"\n",
    "df.loc[df[\"aar_unreliable\"]==1,\"marker\"] = \"circle-open\"\n",
    "\n",
    "\n",
    "data = []\n",
    "\n",
    "data.append(\n",
    "            Scatter(\n",
    "                x = df[x],\n",
    "                y = df[y],\n",
    "                name = state_filter,\n",
    "                mode = \"lines+markers\",\n",
    "                line = dict(\n",
    "                        width = 2,\n",
    "                        color = \"rgb(0,0,0)\",\n",
    "                        shape='spline'\n",
    "                    ),\n",
    "                marker = dict(symbol=df[\"marker\"])\n",
    "                )\n",
    "            )\n",
    "\n",
    "# Add a trace with the national median rate\n",
    "state_deaths_median = state_deaths.groupby([\"Year\"])[\"Age Adjusted Rate\"].median().reset_index()\n",
    "\n",
    "trace_median = Scatter(\n",
    "                x = state_deaths_median[x],\n",
    "                y = state_deaths_median[y],\n",
    "                name = \"National Median\",\n",
    "                mode = \"lines\",\n",
    "                line = dict(\n",
    "                        width = 2,\n",
    "                        color = \"rgb(50,50,50)\",\n",
    "                        dash = 'dot',\n",
    "                        shape='spline'\n",
    "                    )\n",
    "                )\n",
    "\n",
    "data.append(trace_median)\n",
    "\n",
    "layout = dict(title = title,xaxis = dict(title=xaxis_title),yaxis = dict(title=yaxis_title),\n",
    "              legend=dict(xanchor='left',x=0.05))\n",
    "fig = dict(data=data, layout=layout)\n",
    "\n",
    "py.iplot(fig, filename='state_deaths_years')"
   ]
  },
  {
   "cell_type": "code",
   "execution_count": 424,
   "metadata": {
    "collapsed": false
   },
   "outputs": [
    {
     "data": {
      "text/html": [
       "<div>\n",
       "<style scoped>\n",
       "    .dataframe tbody tr th:only-of-type {\n",
       "        vertical-align: middle;\n",
       "    }\n",
       "\n",
       "    .dataframe tbody tr th {\n",
       "        vertical-align: top;\n",
       "    }\n",
       "\n",
       "    .dataframe thead th {\n",
       "        text-align: right;\n",
       "    }\n",
       "</style>\n",
       "<table border=\"1\" class=\"dataframe\">\n",
       "  <thead>\n",
       "    <tr style=\"text-align: right;\">\n",
       "      <th></th>\n",
       "      <th>State</th>\n",
       "      <th>Year</th>\n",
       "      <th>Age Group</th>\n",
       "      <th>Gender</th>\n",
       "      <th>Deaths</th>\n",
       "      <th>Population</th>\n",
       "      <th>Crude Rate</th>\n",
       "      <th>rate_unreliable</th>\n",
       "      <th>code</th>\n",
       "    </tr>\n",
       "  </thead>\n",
       "  <tbody>\n",
       "    <tr>\n",
       "      <th>0</th>\n",
       "      <td>Alabama</td>\n",
       "      <td>1999.0</td>\n",
       "      <td>25-34 years</td>\n",
       "      <td>Female</td>\n",
       "      <td>15.0</td>\n",
       "      <td>308250.0</td>\n",
       "      <td>4.9</td>\n",
       "      <td>1</td>\n",
       "      <td>AL</td>\n",
       "    </tr>\n",
       "  </tbody>\n",
       "</table>\n",
       "</div>"
      ],
      "text/plain": [
       "     State    Year    Age Group  Gender  Deaths  Population  Crude Rate  \\\n",
       "0  Alabama  1999.0  25-34 years  Female    15.0    308250.0         4.9   \n",
       "\n",
       "   rate_unreliable code  \n",
       "0                1   AL  "
      ]
     },
     "execution_count": 424,
     "metadata": {},
     "output_type": "execute_result"
    }
   ],
   "source": [
    "deaths_dem.head(1)"
   ]
  },
  {
   "cell_type": "code",
   "execution_count": 425,
   "metadata": {
    "collapsed": false
   },
   "outputs": [],
   "source": [
    "# state_filter = \"Nebraska\"\n",
    "deaths_dem_comp = deaths_dem.loc[(deaths_dem[\"State\"] == state_filter) \n",
    "                                 & (deaths_dem[\"Year\"].isin([1999.0,2015.0]))]\n",
    "deaths_dem_comp = deaths_dem_comp.sort_values([\"Gender\",\"Age Group\",\"Year\"])\n",
    "deaths_dem_comp[\"Growth since 1999\"] = deaths_dem_comp.groupby([\"Gender\",\"Age Group\"])[\"Crude Rate\"].pct_change()*100\n",
    "deaths_dem_comp[\"Growth since 1999\"] = deaths_dem_comp[\"Growth since 1999\"].round(0).fillna(0).astype(\"int\")\n",
    "\n",
    "# Add rate reliability indicator if either 1999 or 2015 rates are unreliable\n",
    "deaths_dem_comp[\"base_rate_unrel\"] = deaths_dem_comp.groupby([\"Gender\",\"Age Group\"])[\"rate_unreliable\"].shift()\n",
    "deaths_dem_comp[\"base_rate_unrel\"] = deaths_dem_comp[\"base_rate_unrel\"].fillna(0)\n",
    "deaths_dem_comp[\"rate_unreliable\"] = deaths_dem_comp[\"rate_unreliable\"]+deaths_dem_comp[\"base_rate_unrel\"]"
   ]
  },
  {
   "cell_type": "code",
   "execution_count": 433,
   "metadata": {
    "collapsed": false
   },
   "outputs": [],
   "source": [
    "# deaths_dem.loc[(deaths_dem[\"State\"] == state_filter)].sort_values(\"Year\")"
   ]
  },
  {
   "cell_type": "code",
   "execution_count": 432,
   "metadata": {
    "collapsed": false
   },
   "outputs": [],
   "source": [
    "# deaths_dem_comp[[\"State\",\"code\",\"Gender\",\"Age Group\",\"Year\",\"Crude Rate\",\"Growth since 1999\",\"rate_unreliable\"]]"
   ]
  },
  {
   "cell_type": "code",
   "execution_count": 428,
   "metadata": {
    "collapsed": false
   },
   "outputs": [
    {
     "data": {
      "application/vnd.plotly.v1+json": {
       "data": [
        {
         "marker": {
          "color": "rgb(153,142,195)"
         },
         "name": "Female",
         "text": [
          "0%*",
          "0%",
          "948%*",
          "0%",
          "0%"
         ],
         "textposition": "outside",
         "type": "bar",
         "x": [
          "20-24 years",
          "25-34 years",
          "35-44 years",
          "45-54 years",
          "55-64 years"
         ],
         "y": [
          0,
          0,
          948,
          0,
          0
         ]
        },
        {
         "marker": {
          "color": "rgb(241,163,64)"
         },
         "name": "Male",
         "text": [
          "0%",
          "0%",
          "707%*",
          "670%*",
          "0%"
         ],
         "textposition": "outside",
         "type": "bar",
         "x": [
          "20-24 years",
          "25-34 years",
          "35-44 years",
          "45-54 years",
          "55-64 years"
         ],
         "y": [
          0,
          0,
          707,
          670,
          0
         ]
        }
       ],
       "layout": {
        "barmode": "group",
        "showlegend": true,
        "title": "Drug overdose mortality rate change: 2015 vs. 1999",
        "xaxis": {
         "title": "Age Group"
        },
        "yaxis": {
         "title": "Rate change vs. 1999"
        }
       }
      },
      "text/html": [
       "<div id=\"62cb62a1-b7b2-4d32-a5a2-25e5c070ce64\" style=\"height: 525px; width: 100%;\" class=\"plotly-graph-div\"></div><script type=\"text/javascript\">require([\"plotly\"], function(Plotly) { window.PLOTLYENV=window.PLOTLYENV || {};window.PLOTLYENV.BASE_URL=\"https://plot.ly\";Plotly.newPlot(\"62cb62a1-b7b2-4d32-a5a2-25e5c070ce64\", [{\"textposition\": \"outside\", \"name\": \"Female\", \"text\": [\"0%*\", \"0%\", \"948%*\", \"0%\", \"0%\"], \"y\": [0, 0, 948, 0, 0], \"marker\": {\"color\": \"rgb(153,142,195)\"}, \"x\": [\"20-24 years\", \"25-34 years\", \"35-44 years\", \"45-54 years\", \"55-64 years\"], \"type\": \"bar\"}, {\"textposition\": \"outside\", \"name\": \"Male\", \"text\": [\"0%\", \"0%\", \"707%*\", \"670%*\", \"0%\"], \"y\": [0, 0, 707, 670, 0], \"marker\": {\"color\": \"rgb(241,163,64)\"}, \"x\": [\"20-24 years\", \"25-34 years\", \"35-44 years\", \"45-54 years\", \"55-64 years\"], \"type\": \"bar\"}], {\"barmode\": \"group\", \"showlegend\": true, \"title\": \"Drug overdose mortality rate change: 2015 vs. 1999\", \"xaxis\": {\"title\": \"Age Group\"}, \"yaxis\": {\"title\": \"Rate change vs. 1999\"}}, {\"linkText\": \"Export to plot.ly\", \"showLink\": true})});</script>"
      ],
      "text/vnd.plotly.v1+html": [
       "<div id=\"62cb62a1-b7b2-4d32-a5a2-25e5c070ce64\" style=\"height: 525px; width: 100%;\" class=\"plotly-graph-div\"></div><script type=\"text/javascript\">require([\"plotly\"], function(Plotly) { window.PLOTLYENV=window.PLOTLYENV || {};window.PLOTLYENV.BASE_URL=\"https://plot.ly\";Plotly.newPlot(\"62cb62a1-b7b2-4d32-a5a2-25e5c070ce64\", [{\"textposition\": \"outside\", \"name\": \"Female\", \"text\": [\"0%*\", \"0%\", \"948%*\", \"0%\", \"0%\"], \"y\": [0, 0, 948, 0, 0], \"marker\": {\"color\": \"rgb(153,142,195)\"}, \"x\": [\"20-24 years\", \"25-34 years\", \"35-44 years\", \"45-54 years\", \"55-64 years\"], \"type\": \"bar\"}, {\"textposition\": \"outside\", \"name\": \"Male\", \"text\": [\"0%\", \"0%\", \"707%*\", \"670%*\", \"0%\"], \"y\": [0, 0, 707, 670, 0], \"marker\": {\"color\": \"rgb(241,163,64)\"}, \"x\": [\"20-24 years\", \"25-34 years\", \"35-44 years\", \"45-54 years\", \"55-64 years\"], \"type\": \"bar\"}], {\"barmode\": \"group\", \"showlegend\": true, \"title\": \"Drug overdose mortality rate change: 2015 vs. 1999\", \"xaxis\": {\"title\": \"Age Group\"}, \"yaxis\": {\"title\": \"Rate change vs. 1999\"}}, {\"linkText\": \"Export to plot.ly\", \"showLink\": true})});</script>"
      ]
     },
     "metadata": {},
     "output_type": "display_data"
    }
   ],
   "source": [
    "# Create chart with change over time by age+gender\n",
    "\n",
    "df = deaths_dem_comp[deaths_dem_comp[\"Year\"]==2015.0].sort_values(\"Age Group\")\n",
    "y = \"Growth since 1999\"\n",
    "x = \"Age Group\"\n",
    "title=\"Drug overdose mortality rate change: 2015 vs. 1999\"\n",
    "xaxis_title=\"Age Group\"\n",
    "yaxis_title=\"Rate change vs. 1999\"\n",
    "\n",
    "genders = list(df.Gender.unique())\n",
    "df[\"warning\"] = \"\"\n",
    "df.loc[df.rate_unreliable==1.0,\"warning\"] = \"*\"\n",
    "\n",
    "scl = {\"Male\":'rgb(241,163,64)', \"Female\":'rgb(153,142,195)'}\n",
    "\n",
    "data = []\n",
    "\n",
    "for gender in genders:\n",
    "    data.append(\n",
    "        Bar(\n",
    "            x = df[(df[\"Gender\"]==gender)][x],\n",
    "            y = df[(df[\"Gender\"]==gender)][y],\n",
    "            name = gender,\n",
    "            text = df[(df[\"Gender\"]==gender)][y].round(1).astype(\"str\")+\"%\"+df[(df[\"Gender\"]==gender)][\"warning\"],\n",
    "            textposition = 'outside',\n",
    "            marker=dict(color = scl[gender])\n",
    "        )\n",
    "    )\n",
    "\n",
    "layout = dict(\n",
    "    title = title, xaxis=dict(title=xaxis_title),\n",
    "    yaxis=dict(title=yaxis_title),\n",
    "    showlegend = True,\n",
    "    barmode='group'\n",
    ")\n",
    "\n",
    "fig = dict(data=data, layout=layout)\n",
    "py.iplot(fig, filename='deaths_dem_comp')"
   ]
  },
  {
   "cell_type": "markdown",
   "metadata": {},
   "source": [
    "### Understand the difference between urban / rural regions"
   ]
  },
  {
   "cell_type": "code",
   "execution_count": 429,
   "metadata": {
    "collapsed": false
   },
   "outputs": [],
   "source": [
    "urb_deaths = pd.read_csv(\"data/Compressed_Mortality_1999-2015_year_state_urb.txt\",sep=\"\\t\")\n",
    "\n",
    "# Clean the data\n",
    "urb_deaths = urb_deaths[urb_deaths.Year.notnull()]\n",
    "\n",
    "# The death rate is unreliable if the enumerator is below 20\n",
    "urb_deaths[\"aar_unreliable\"] = 0\n",
    "urb_deaths.loc[urb_deaths[\"Deaths\"]<20,\"aar_unreliable\"] = 1\n",
    "urb_deaths[\"Age Adjusted Rate\"] = urb_deaths[\"Age Adjusted Rate\"].str.replace(\"[a-zA-Z\\(\\)]\", \"\")\n",
    "urb_deaths[\"Age Adjusted Rate\"] = urb_deaths[\"Age Adjusted Rate\"].astype(\"float\")\n",
    "urb_deaths[\"urb_code\"]= urb_deaths.apply(lambda x: [x[\"2013 Urbanization Code\"],x[\"2013 Urbanization\"]],axis=1)\n",
    "urb_deaths.drop([\"Notes\",\"Crude Rate\",\"Year Code\", \"State Code\"],axis=1,inplace=True)\n",
    "\n",
    "urb_deaths.head(5)\n",
    "\n",
    "urb_deaths.to_csv(\"processed_data/urb_deaths.csv\",index=False)"
   ]
  },
  {
   "cell_type": "code",
   "execution_count": 430,
   "metadata": {
    "collapsed": false
   },
   "outputs": [
    {
     "data": {
      "text/plain": [
       "array(['Cerebrovascular diseases, including stroke', 'Diseases of Heart',\n",
       "       'Malignant neoplasms (Cancers)',\n",
       "       'Chronic lower respiratory diseases', 'Alzheimers disease',\n",
       "       'Drug overdose related causes'], dtype=object)"
      ]
     },
     "execution_count": 430,
     "metadata": {},
     "output_type": "execute_result"
    }
   ],
   "source": [
    "groups"
   ]
  },
  {
   "cell_type": "code",
   "execution_count": 431,
   "metadata": {
    "collapsed": false,
    "scrolled": false
   },
   "outputs": [
    {
     "data": {
      "application/vnd.plotly.v1+json": {
       "data": [
        {
         "line": {
          "color": "rgb(90,180,172)",
          "shape": "spline",
          "width": 2
         },
         "marker": {
          "size": 8,
          "symbol": [
           "x",
           "circle",
           "x",
           "circle",
           "x",
           "circle",
           "circle",
           "circle",
           "circle"
          ]
         },
         "mode": "lines+markers",
         "name": "Large Fringe Metro",
         "type": "scatter",
         "x": [
          2015
         ],
         "y": [
          27
         ]
        },
        {
         "line": {
          "color": "rgb(159,204,199)",
          "shape": "spline",
          "width": 2
         },
         "marker": {
          "size": 8,
          "symbol": [
           "x",
           "circle",
           "x",
           "circle",
           "x",
           "circle",
           "circle",
           "circle",
           "circle"
          ]
         },
         "mode": "lines+markers",
         "name": "Medium Metro",
         "type": "scatter",
         "x": [
          1999,
          2015
         ],
         "y": [
          5.2,
          53.7
         ]
        },
        {
         "line": {
          "color": "rgb(146,132,95)",
          "shape": "spline",
          "width": 2
         },
         "marker": {
          "size": 8,
          "symbol": [
           "x",
           "circle",
           "x",
           "circle",
           "x",
           "circle",
           "circle",
           "circle",
           "circle"
          ]
         },
         "mode": "lines+markers",
         "name": "Small Metro",
         "type": "scatter",
         "x": [
          1999,
          2015
         ],
         "y": [
          3.4,
          42.6
         ]
        },
        {
         "line": {
          "color": "rgb(216,179,101)",
          "shape": "spline",
          "width": 2
         },
         "marker": {
          "size": 8,
          "symbol": [
           "x",
           "circle",
           "x",
           "circle",
           "x",
           "circle",
           "circle",
           "circle",
           "circle"
          ]
         },
         "mode": "lines+markers",
         "name": "Micropolitan (non-metro)",
         "type": "scatter",
         "x": [
          1999,
          2015
         ],
         "y": [
          3.6,
          32.9
         ]
        },
        {
         "line": {
          "color": "rgb(140,81,10)",
          "shape": "spline",
          "width": 2
         },
         "marker": {
          "size": 8,
          "symbol": [
           "x",
           "circle",
           "x",
           "circle",
           "x",
           "circle",
           "circle",
           "circle",
           "circle"
          ]
         },
         "mode": "lines+markers",
         "name": "NonCore (non-metro)",
         "type": "scatter",
         "x": [
          1999,
          2015
         ],
         "y": [
          5.1,
          37.7
         ]
        }
       ],
       "layout": {
        "legend": {
         "traceorder": "normal"
        },
        "title": "West Virginia : Deaths per 100k population from drug overdose related causes: 1999 - 2015",
        "xaxis": {
         "title": "",
         "type": "category"
        },
        "yaxis": {
         "title": "Deaths per 100k population"
        }
       }
      },
      "text/html": [
       "<div id=\"9caf14fa-43c9-47ff-a683-afdcb18175b9\" style=\"height: 525px; width: 100%;\" class=\"plotly-graph-div\"></div><script type=\"text/javascript\">require([\"plotly\"], function(Plotly) { window.PLOTLYENV=window.PLOTLYENV || {};window.PLOTLYENV.BASE_URL=\"https://plot.ly\";Plotly.newPlot(\"9caf14fa-43c9-47ff-a683-afdcb18175b9\", [{\"name\": \"Large Fringe Metro\", \"marker\": {\"symbol\": [\"x\", \"circle\", \"x\", \"circle\", \"x\", \"circle\", \"circle\", \"circle\", \"circle\"], \"size\": 8}, \"mode\": \"lines+markers\", \"y\": [27.0], \"x\": [2015.0], \"line\": {\"color\": \"rgb(90,180,172)\", \"width\": 2, \"shape\": \"spline\"}, \"type\": \"scatter\"}, {\"name\": \"Medium Metro\", \"marker\": {\"symbol\": [\"x\", \"circle\", \"x\", \"circle\", \"x\", \"circle\", \"circle\", \"circle\", \"circle\"], \"size\": 8}, \"mode\": \"lines+markers\", \"y\": [5.2, 53.7], \"x\": [1999.0, 2015.0], \"line\": {\"color\": \"rgb(159,204,199)\", \"width\": 2, \"shape\": \"spline\"}, \"type\": \"scatter\"}, {\"name\": \"Small Metro\", \"marker\": {\"symbol\": [\"x\", \"circle\", \"x\", \"circle\", \"x\", \"circle\", \"circle\", \"circle\", \"circle\"], \"size\": 8}, \"mode\": \"lines+markers\", \"y\": [3.4, 42.6], \"x\": [1999.0, 2015.0], \"line\": {\"color\": \"rgb(146,132,95)\", \"width\": 2, \"shape\": \"spline\"}, \"type\": \"scatter\"}, {\"name\": \"Micropolitan (non-metro)\", \"marker\": {\"symbol\": [\"x\", \"circle\", \"x\", \"circle\", \"x\", \"circle\", \"circle\", \"circle\", \"circle\"], \"size\": 8}, \"mode\": \"lines+markers\", \"y\": [3.6, 32.9], \"x\": [1999.0, 2015.0], \"line\": {\"color\": \"rgb(216,179,101)\", \"width\": 2, \"shape\": \"spline\"}, \"type\": \"scatter\"}, {\"name\": \"NonCore (non-metro)\", \"marker\": {\"symbol\": [\"x\", \"circle\", \"x\", \"circle\", \"x\", \"circle\", \"circle\", \"circle\", \"circle\"], \"size\": 8}, \"mode\": \"lines+markers\", \"y\": [5.1, 37.7], \"x\": [1999.0, 2015.0], \"line\": {\"color\": \"rgb(140,81,10)\", \"width\": 2, \"shape\": \"spline\"}, \"type\": \"scatter\"}], {\"title\": \"West Virginia : Deaths per 100k population from drug overdose related causes: 1999 - 2015\", \"legend\": {\"traceorder\": \"normal\"}, \"xaxis\": {\"type\": \"category\", \"title\": \"\"}, \"yaxis\": {\"title\": \"Deaths per 100k population\"}}, {\"linkText\": \"Export to plot.ly\", \"showLink\": true})});</script>"
      ],
      "text/vnd.plotly.v1+html": [
       "<div id=\"9caf14fa-43c9-47ff-a683-afdcb18175b9\" style=\"height: 525px; width: 100%;\" class=\"plotly-graph-div\"></div><script type=\"text/javascript\">require([\"plotly\"], function(Plotly) { window.PLOTLYENV=window.PLOTLYENV || {};window.PLOTLYENV.BASE_URL=\"https://plot.ly\";Plotly.newPlot(\"9caf14fa-43c9-47ff-a683-afdcb18175b9\", [{\"name\": \"Large Fringe Metro\", \"marker\": {\"symbol\": [\"x\", \"circle\", \"x\", \"circle\", \"x\", \"circle\", \"circle\", \"circle\", \"circle\"], \"size\": 8}, \"mode\": \"lines+markers\", \"y\": [27.0], \"x\": [2015.0], \"line\": {\"color\": \"rgb(90,180,172)\", \"width\": 2, \"shape\": \"spline\"}, \"type\": \"scatter\"}, {\"name\": \"Medium Metro\", \"marker\": {\"symbol\": [\"x\", \"circle\", \"x\", \"circle\", \"x\", \"circle\", \"circle\", \"circle\", \"circle\"], \"size\": 8}, \"mode\": \"lines+markers\", \"y\": [5.2, 53.7], \"x\": [1999.0, 2015.0], \"line\": {\"color\": \"rgb(159,204,199)\", \"width\": 2, \"shape\": \"spline\"}, \"type\": \"scatter\"}, {\"name\": \"Small Metro\", \"marker\": {\"symbol\": [\"x\", \"circle\", \"x\", \"circle\", \"x\", \"circle\", \"circle\", \"circle\", \"circle\"], \"size\": 8}, \"mode\": \"lines+markers\", \"y\": [3.4, 42.6], \"x\": [1999.0, 2015.0], \"line\": {\"color\": \"rgb(146,132,95)\", \"width\": 2, \"shape\": \"spline\"}, \"type\": \"scatter\"}, {\"name\": \"Micropolitan (non-metro)\", \"marker\": {\"symbol\": [\"x\", \"circle\", \"x\", \"circle\", \"x\", \"circle\", \"circle\", \"circle\", \"circle\"], \"size\": 8}, \"mode\": \"lines+markers\", \"y\": [3.6, 32.9], \"x\": [1999.0, 2015.0], \"line\": {\"color\": \"rgb(216,179,101)\", \"width\": 2, \"shape\": \"spline\"}, \"type\": \"scatter\"}, {\"name\": \"NonCore (non-metro)\", \"marker\": {\"symbol\": [\"x\", \"circle\", \"x\", \"circle\", \"x\", \"circle\", \"circle\", \"circle\", \"circle\"], \"size\": 8}, \"mode\": \"lines+markers\", \"y\": [5.1, 37.7], \"x\": [1999.0, 2015.0], \"line\": {\"color\": \"rgb(140,81,10)\", \"width\": 2, \"shape\": \"spline\"}, \"type\": \"scatter\"}], {\"title\": \"West Virginia : Deaths per 100k population from drug overdose related causes: 1999 - 2015\", \"legend\": {\"traceorder\": \"normal\"}, \"xaxis\": {\"type\": \"category\", \"title\": \"\"}, \"yaxis\": {\"title\": \"Deaths per 100k population\"}}, {\"linkText\": \"Export to plot.ly\", \"showLink\": true})});</script>"
      ]
     },
     "metadata": {},
     "output_type": "display_data"
    }
   ],
   "source": [
    "state_filter = \"West Virginia\"\n",
    "df = urb_deaths[(urb_deaths[\"State\"] == state_filter) & (urb_deaths[\"Year\"].isin([1999,2015]))]\\\n",
    ".sort_values([\"Year\",\"2013 Urbanization Code\"])\n",
    "\n",
    "x = \"Year\"\n",
    "y = \"Age Adjusted Rate\"\n",
    "group = \"2013 Urbanization Code\"\n",
    "title = state_filter + \" : Deaths per 100k population from drug overdose related causes: 1999 - 2015\"\n",
    "xaxis_title=\"\"\n",
    "yaxis_title=\"Deaths per 100k population\"\n",
    "\n",
    "# Add reliability indicator\n",
    "df[\"marker\"] = \"circle\"\n",
    "df.loc[df[\"aar_unreliable\"]==1,\"marker\"] = \"x\"\n",
    "\n",
    "# Add colorscale\n",
    "\n",
    "ids = [1,2,3,4,5,6]\n",
    "colors = ['rgb(140,81,10)','rgb(216,179,101)','rgb(146,132,95)','rgb(159,204,199)','rgb(90,180,172)','rgb(1,102,94)']\n",
    "levels = [\"Large Central Metro\",\"Large Fringe Metro\",\"Medium Metro\"\n",
    "          ,\"Small Metro\",\"Micropolitan (non-metro)\",\"NonCore (non-metro)\"]\n",
    "col_levels = [item for item in zip(colors[::-1],levels)]\n",
    "scl = dict(zip(ids,col_levels))\n",
    "\n",
    "groups = sorted(list(df[group].unique()))\n",
    "\n",
    "data = []\n",
    "\n",
    "for item in groups:\n",
    "\n",
    "    data.append(\n",
    "            Scatter(\n",
    "                x = df[df[group]==item][x],\n",
    "                y = df[df[group]==item][y],\n",
    "                name = scl[item][1],\n",
    "                mode = \"lines+markers\",\n",
    "                line = dict(\n",
    "                        width = 2,\n",
    "                        color = scl[item][0],\n",
    "                        shape='spline'\n",
    "                    ),\n",
    "                marker = dict(symbol=df[\"marker\"],size=8)\n",
    "                )\n",
    "            )\n",
    "\n",
    "\n",
    "layout = dict(title = title\n",
    "              ,xaxis = dict(title=xaxis_title,type=\"category\")\n",
    "              ,yaxis = dict(title=yaxis_title)\n",
    "              ,legend = dict(traceorder=\"normal\"))\n",
    "fig = dict(data=data, layout=layout)\n",
    "\n",
    "py.iplot(fig, filename='state_deaths_urb')"
   ]
  },
  {
   "cell_type": "markdown",
   "metadata": {},
   "source": [
    "### Technical notes\n",
    "\n",
    "The data presented in these charts was queried using a GUI tools [CDC WONDER](http://wonder.cdc.gov/cmf-icd10.html) and [NVSS Vital Statistics Rapid Release](https://www.cdc.gov/nchs/nvss/vsrr/drug-overdose-data.htm). \n",
    "Drug overdose related deaths are those classified as fitting at least one the following underlying cause-of-death codes from the Tenth Revision of ICD (ICD–10): X40–X44 (unintentional), X60–X64 (suicide), X85 (homicide), and Y10–Y14 (undetermined). Drug overdose deaths involving selected drug categories are identified by specific multiple cause-of-death codes. \n",
    "\n",
    "Further documentation is available [here](https://wonder.cdc.gov/wonder/help/cmf.html#).\n",
    "\n",
    "Excluding the chart with the split by demograpics, the data shows an age-adjusted death rate. The age-adjusted rate is used for the following methodological reason cited on the [CDC website](https://wonder.cdc.gov/wonder/help/cmf.html#Age-Adjusted Rates):\n",
    ">The rates of almost all causes of death vary by age. Age adjustment is a technique for \"removing\" the effects of age from crude rates, so as to allow meaningful comparisons across populations with different underlying age structures. For example, comparing the crude rate of heart disease in Florida to that of California is misleading, because the relatively older population in Florida will lead to a higher crude death rate, even if the age-specific rates of heart disease in Florida and California are the same. For such a comparison, age-adjusted rates are preferable. Age-adjusted rates should be viewed as relative indexes rather than as direct or actual measures of mortality risk.\n",
    "  \n",
    "\n",
    "### Reference\n",
    "\n",
    "1) Centers for Disease Control and Prevention, National Center for Health Statistics. Compressed Mortality File 1999-2015 on CDC WONDER Online Database, released December 2016. Data are from the Compressed Mortality File 1999-2015 Series 20 No. 2U, 2016, as compiled from data provided by the 57 vital statistics jurisdictions through the Vital Statistics Cooperative Program. Accessed at http://wonder.cdc.gov/cmf-icd10.html on Dec 3, 2017 9:27:17 AM\n",
    "  \n",
    "2) Ahmad FB, Rossen LM, Spencer MR, Warner M, Sutton P. Provisional drug overdose death counts. National Center for Health Statistics. 2017. Accessed at https://www.cdc.gov/nchs/nvss/vsrr/drug-overdose-data.htm on Dec 10, 2017 9:00:00 AM\n",
    " \n",
    "3) US state codes: https://www.50states.com/abbreviations.htm  \n",
    "4) Pandas documentation: https://pandas.pydata.org/pandas-docs/stable/  \n",
    "5) Google Trends on \"Opioid Epidemic\": https://trends.google.com/trends/explore?geo=US&q=opioid%20epidemic  \n",
    "6) CDC definition of the epidemic: https://www.cdc.gov/ophss/csels/dsepd/ss1978/lesson1/section11.html  \n"
   ]
  },
  {
   "cell_type": "code",
   "execution_count": null,
   "metadata": {
    "collapsed": true
   },
   "outputs": [],
   "source": []
  }
 ],
 "metadata": {
  "kernelspec": {
   "display_name": "Python 2",
   "language": "python",
   "name": "python2"
  },
  "language_info": {
   "codemirror_mode": {
    "name": "ipython",
    "version": 2
   },
   "file_extension": ".py",
   "mimetype": "text/x-python",
   "name": "python",
   "nbconvert_exporter": "python",
   "pygments_lexer": "ipython2",
   "version": "2.7.13"
  }
 },
 "nbformat": 4,
 "nbformat_minor": 2
}
